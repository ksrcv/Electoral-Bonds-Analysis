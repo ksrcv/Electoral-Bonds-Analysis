{
 "cells": [
  {
   "cell_type": "markdown",
   "id": "0c489195",
   "metadata": {},
   "source": [
    "# Electoral Bonds Analysis"
   ]
  },
  {
   "cell_type": "markdown",
   "id": "b20df0eb",
   "metadata": {},
   "source": [
    "## Importing Necessary Libraries"
   ]
  },
  {
   "cell_type": "code",
   "execution_count": 1,
   "id": "00c69f1b",
   "metadata": {},
   "outputs": [],
   "source": [
    "import tabula\n",
    "import numpy as np\n",
    "import pandas as pd"
   ]
  },
  {
   "cell_type": "markdown",
   "id": "49490588",
   "metadata": {},
   "source": [
    "### changing numerical format"
   ]
  },
  {
   "cell_type": "code",
   "execution_count": 2,
   "id": "68e4704a",
   "metadata": {},
   "outputs": [],
   "source": [
    "pd.options.display.float_format = '{:,.0f}'.format"
   ]
  },
  {
   "cell_type": "markdown",
   "id": "add12431",
   "metadata": {},
   "source": [
    "## Extracting Tables from PDF file"
   ]
  },
  {
   "cell_type": "code",
   "execution_count": 4,
   "id": "3368e79d",
   "metadata": {},
   "outputs": [],
   "source": [
    "# Path to your PDF file\n",
    "pdf_path = \"C:/Users/ksrch/Downloads/Electoral B Data/EB_Purchase_Details.pdf\""
   ]
  },
  {
   "cell_type": "code",
   "execution_count": 6,
   "id": "c1e1d506",
   "metadata": {},
   "outputs": [],
   "source": [
    "# Read the PDF file and extract tables into a list of DataFrames\n",
    "P_Details = tabula.read_pdf(pdf_path, pages='all', multiple_tables=True)"
   ]
  },
  {
   "cell_type": "code",
   "execution_count": 7,
   "id": "170eb6ed",
   "metadata": {},
   "outputs": [],
   "source": [
    "pdf_path1 = \"C:/Users/ksrch/Downloads/Electoral B Data/EB_Redemption_Details.pdf\""
   ]
  },
  {
   "cell_type": "code",
   "execution_count": 8,
   "id": "ffd45eff",
   "metadata": {},
   "outputs": [],
   "source": [
    "# Read the PDF file and extract tables into a list of DataFrames\n",
    "R_Details = tabula.read_pdf(pdf_path1, pages='all', multiple_tables=True)"
   ]
  },
  {
   "cell_type": "code",
   "execution_count": 9,
   "id": "f8c5b060",
   "metadata": {},
   "outputs": [],
   "source": [
    "purchase = pd.concat(P_Details)"
   ]
  },
  {
   "cell_type": "code",
   "execution_count": 10,
   "id": "7c84719a",
   "metadata": {},
   "outputs": [],
   "source": [
    "redemption = pd.concat(R_Details)"
   ]
  },
  {
   "cell_type": "code",
   "execution_count": 12,
   "id": "2abe72c5",
   "metadata": {
    "scrolled": true
   },
   "outputs": [
    {
     "data": {
      "text/html": [
       "<div>\n",
       "<style scoped>\n",
       "    .dataframe tbody tr th:only-of-type {\n",
       "        vertical-align: middle;\n",
       "    }\n",
       "\n",
       "    .dataframe tbody tr th {\n",
       "        vertical-align: top;\n",
       "    }\n",
       "\n",
       "    .dataframe thead th {\n",
       "        text-align: right;\n",
       "    }\n",
       "</style>\n",
       "<table border=\"1\" class=\"dataframe\">\n",
       "  <thead>\n",
       "    <tr style=\"text-align: right;\">\n",
       "      <th></th>\n",
       "      <th>Sr No.</th>\n",
       "      <th>Reference No  (URN)</th>\n",
       "      <th>Journal Date</th>\n",
       "      <th>Date of\\rPurchase</th>\n",
       "      <th>Date of Expiry</th>\n",
       "      <th>Name of the Purchaser</th>\n",
       "      <th>Prefix</th>\n",
       "      <th>Bond\\rNumber</th>\n",
       "      <th>Denominations</th>\n",
       "      <th>Issue Branch Code</th>\n",
       "      <th>Issue Teller</th>\n",
       "      <th>Status</th>\n",
       "    </tr>\n",
       "  </thead>\n",
       "  <tbody>\n",
       "    <tr>\n",
       "      <th>43</th>\n",
       "      <td>1612</td>\n",
       "      <td>00001201905070000001353</td>\n",
       "      <td>07/May/2019</td>\n",
       "      <td>07/May/2019</td>\n",
       "      <td>21/May/2019</td>\n",
       "      <td>KEVENTER FOODPARK INFRA LIMITED</td>\n",
       "      <td>OC</td>\n",
       "      <td>6379</td>\n",
       "      <td>1,00,00,000</td>\n",
       "      <td>1</td>\n",
       "      <td>5899230</td>\n",
       "      <td>Paid</td>\n",
       "    </tr>\n",
       "  </tbody>\n",
       "</table>\n",
       "</div>"
      ],
      "text/plain": [
       "    Sr No.      Reference No  (URN) Journal Date Date of\\rPurchase  \\\n",
       "43    1612  00001201905070000001353  07/May/2019       07/May/2019   \n",
       "\n",
       "   Date of Expiry            Name of the Purchaser Prefix  Bond\\rNumber  \\\n",
       "43    21/May/2019  KEVENTER FOODPARK INFRA LIMITED     OC          6379   \n",
       "\n",
       "   Denominations  Issue Branch Code  Issue Teller Status  \n",
       "43   1,00,00,000                  1       5899230   Paid  "
      ]
     },
     "execution_count": 12,
     "metadata": {},
     "output_type": "execute_result"
    }
   ],
   "source": [
    "purchase.sample()"
   ]
  },
  {
   "cell_type": "markdown",
   "id": "e9dc6bf3",
   "metadata": {},
   "source": [
    "#### Cleaning the Headings of the table"
   ]
  },
  {
   "cell_type": "code",
   "execution_count": 13,
   "id": "e704ebce",
   "metadata": {},
   "outputs": [],
   "source": [
    "purchase = purchase.rename(columns=lambda x: x.strip().replace(\"\\r\",\" \"))"
   ]
  },
  {
   "cell_type": "code",
   "execution_count": 14,
   "id": "3b66541e",
   "metadata": {
    "scrolled": true
   },
   "outputs": [
    {
     "data": {
      "text/html": [
       "<div>\n",
       "<style scoped>\n",
       "    .dataframe tbody tr th:only-of-type {\n",
       "        vertical-align: middle;\n",
       "    }\n",
       "\n",
       "    .dataframe tbody tr th {\n",
       "        vertical-align: top;\n",
       "    }\n",
       "\n",
       "    .dataframe thead th {\n",
       "        text-align: right;\n",
       "    }\n",
       "</style>\n",
       "<table border=\"1\" class=\"dataframe\">\n",
       "  <thead>\n",
       "    <tr style=\"text-align: right;\">\n",
       "      <th></th>\n",
       "      <th>Sr No.</th>\n",
       "      <th>Reference No  (URN)</th>\n",
       "      <th>Journal Date</th>\n",
       "      <th>Date of Purchase</th>\n",
       "      <th>Date of Expiry</th>\n",
       "      <th>Name of the Purchaser</th>\n",
       "      <th>Prefix</th>\n",
       "      <th>Bond Number</th>\n",
       "      <th>Denominations</th>\n",
       "      <th>Issue Branch Code</th>\n",
       "      <th>Issue Teller</th>\n",
       "      <th>Status</th>\n",
       "    </tr>\n",
       "  </thead>\n",
       "  <tbody>\n",
       "    <tr>\n",
       "      <th>2</th>\n",
       "      <td>7255</td>\n",
       "      <td>00509202201060000002150</td>\n",
       "      <td>06/Jan/2022</td>\n",
       "      <td>06/Jan/2022</td>\n",
       "      <td>20/Jan/2022</td>\n",
       "      <td>V M SALGAOCAR CORPORATION PVT LTD</td>\n",
       "      <td>TL</td>\n",
       "      <td>3429</td>\n",
       "      <td>10,00,000</td>\n",
       "      <td>509</td>\n",
       "      <td>7315678</td>\n",
       "      <td>Paid</td>\n",
       "    </tr>\n",
       "  </tbody>\n",
       "</table>\n",
       "</div>"
      ],
      "text/plain": [
       "   Sr No.      Reference No  (URN) Journal Date Date of Purchase  \\\n",
       "2    7255  00509202201060000002150  06/Jan/2022      06/Jan/2022   \n",
       "\n",
       "  Date of Expiry              Name of the Purchaser Prefix  Bond Number  \\\n",
       "2    20/Jan/2022  V M SALGAOCAR CORPORATION PVT LTD     TL         3429   \n",
       "\n",
       "  Denominations  Issue Branch Code  Issue Teller Status  \n",
       "2     10,00,000                509       7315678   Paid  "
      ]
     },
     "execution_count": 14,
     "metadata": {},
     "output_type": "execute_result"
    }
   ],
   "source": [
    "purchase.sample()"
   ]
  },
  {
   "cell_type": "markdown",
   "id": "09fb7c15",
   "metadata": {},
   "source": [
    "#### Treating the columns and changing the datatypes"
   ]
  },
  {
   "cell_type": "code",
   "execution_count": 15,
   "id": "36af7bc0",
   "metadata": {},
   "outputs": [],
   "source": [
    "redemption = redemption.rename(columns = lambda x: x.strip().replace(\"\\r\",\" \"))"
   ]
  },
  {
   "cell_type": "code",
   "execution_count": 16,
   "id": "43bf8166",
   "metadata": {},
   "outputs": [],
   "source": [
    "redemption[\"Denominations\"] = redemption[\"Denominations\"].str.replace(\",\",\"\").astype(int)"
   ]
  },
  {
   "cell_type": "code",
   "execution_count": 18,
   "id": "86c36830",
   "metadata": {},
   "outputs": [],
   "source": [
    "purchase[\"Denominations\"] = purchase[\"Denominations\"].str.replace(\",\",\"\").astype(int)"
   ]
  },
  {
   "cell_type": "code",
   "execution_count": 21,
   "id": "ce2fdac9",
   "metadata": {},
   "outputs": [],
   "source": [
    "purchase[\"Bond Number\"] = purchase[\"Bond Number\"].astype(str)"
   ]
  },
  {
   "cell_type": "code",
   "execution_count": 23,
   "id": "9a98592b",
   "metadata": {},
   "outputs": [],
   "source": [
    "redemption[\"Bond Number\"] = redemption[\"Bond Number\"].astype(str)"
   ]
  },
  {
   "cell_type": "code",
   "execution_count": 22,
   "id": "f1c2e937",
   "metadata": {},
   "outputs": [],
   "source": [
    "purchase[\"UniqID\"] = purchase[\"Prefix\"] + purchase[\"Bond Number\"]"
   ]
  },
  {
   "cell_type": "code",
   "execution_count": 25,
   "id": "42db9d88",
   "metadata": {},
   "outputs": [],
   "source": [
    "redemption[\"UniqID\"] = redemption[\"Prefix\"] + redemption[\"Bond Number\"]"
   ]
  },
  {
   "cell_type": "markdown",
   "id": "9518723d",
   "metadata": {},
   "source": [
    "### Merging the two extracted tables"
   ]
  },
  {
   "cell_type": "code",
   "execution_count": 26,
   "id": "cce00964",
   "metadata": {},
   "outputs": [],
   "source": [
    "df = pd.merge(purchase,redemption,on=\"UniqID\",how=\"right\")"
   ]
  },
  {
   "cell_type": "code",
   "execution_count": 135,
   "id": "0acfb7bc",
   "metadata": {
    "scrolled": true
   },
   "outputs": [
    {
     "data": {
      "text/html": [
       "<div>\n",
       "<style scoped>\n",
       "    .dataframe tbody tr th:only-of-type {\n",
       "        vertical-align: middle;\n",
       "    }\n",
       "\n",
       "    .dataframe tbody tr th {\n",
       "        vertical-align: top;\n",
       "    }\n",
       "\n",
       "    .dataframe thead th {\n",
       "        text-align: right;\n",
       "    }\n",
       "</style>\n",
       "<table border=\"1\" class=\"dataframe\">\n",
       "  <thead>\n",
       "    <tr style=\"text-align: right;\">\n",
       "      <th></th>\n",
       "      <th>Reference No_(URN)</th>\n",
       "      <th>Journal Date</th>\n",
       "      <th>Date of Purchase</th>\n",
       "      <th>Date of Expiry</th>\n",
       "      <th>Date of Encashment</th>\n",
       "      <th>Prefix</th>\n",
       "      <th>Bond Number</th>\n",
       "      <th>Purchaser Name</th>\n",
       "      <th>Purchase Amount</th>\n",
       "      <th>Purchaser Type</th>\n",
       "      <th>Issue Branch Code</th>\n",
       "      <th>Issue_Branch_State</th>\n",
       "      <th>Issue_Branch_City</th>\n",
       "      <th>Status</th>\n",
       "      <th>Party Name</th>\n",
       "      <th>Amount</th>\n",
       "      <th>Encash Branch Code</th>\n",
       "      <th>Encash_Branch_State</th>\n",
       "      <th>Encash_Branch_City</th>\n",
       "    </tr>\n",
       "  </thead>\n",
       "  <tbody>\n",
       "    <tr>\n",
       "      <th>0</th>\n",
       "      <td>00847201904120000001164</td>\n",
       "      <td>2019-04-12</td>\n",
       "      <td>2019-04-12</td>\n",
       "      <td>2019-04-26</td>\n",
       "      <td>2019-04-16</td>\n",
       "      <td>OC</td>\n",
       "      <td>5485</td>\n",
       "      <td>MEGHA ENGINEERING &amp; INFRASTRUCTURES LIMITED</td>\n",
       "      <td>10,000,000</td>\n",
       "      <td>Organisation</td>\n",
       "      <td>`00847</td>\n",
       "      <td>Telangana</td>\n",
       "      <td>Hyderabad</td>\n",
       "      <td>Paid</td>\n",
       "      <td>BJP</td>\n",
       "      <td>10,000,000</td>\n",
       "      <td>`00691</td>\n",
       "      <td>Delhi</td>\n",
       "      <td>New Delhi</td>\n",
       "    </tr>\n",
       "    <tr>\n",
       "      <th>1</th>\n",
       "      <td>00001201904120000001165</td>\n",
       "      <td>2019-04-12</td>\n",
       "      <td>2019-04-12</td>\n",
       "      <td>2019-04-26</td>\n",
       "      <td>2019-04-20</td>\n",
       "      <td>OC</td>\n",
       "      <td>6258</td>\n",
       "      <td>ESSEL MINING AND INDS LTD</td>\n",
       "      <td>10,000,000</td>\n",
       "      <td>Organisation</td>\n",
       "      <td>`00001</td>\n",
       "      <td>West Bengal</td>\n",
       "      <td>Kolkata</td>\n",
       "      <td>Paid</td>\n",
       "      <td>BJP</td>\n",
       "      <td>10,000,000</td>\n",
       "      <td>`00691</td>\n",
       "      <td>Delhi</td>\n",
       "      <td>New Delhi</td>\n",
       "    </tr>\n",
       "    <tr>\n",
       "      <th>2</th>\n",
       "      <td>00001201904120000001165</td>\n",
       "      <td>2019-04-12</td>\n",
       "      <td>2019-04-12</td>\n",
       "      <td>2019-04-26</td>\n",
       "      <td>2019-04-20</td>\n",
       "      <td>OC</td>\n",
       "      <td>6268</td>\n",
       "      <td>ESSEL MINING AND INDS LTD</td>\n",
       "      <td>10,000,000</td>\n",
       "      <td>Organisation</td>\n",
       "      <td>`00001</td>\n",
       "      <td>West Bengal</td>\n",
       "      <td>Kolkata</td>\n",
       "      <td>Paid</td>\n",
       "      <td>BJP</td>\n",
       "      <td>10,000,000</td>\n",
       "      <td>`00691</td>\n",
       "      <td>Delhi</td>\n",
       "      <td>New Delhi</td>\n",
       "    </tr>\n",
       "    <tr>\n",
       "      <th>3</th>\n",
       "      <td>00001201904120000001165</td>\n",
       "      <td>2019-04-12</td>\n",
       "      <td>2019-04-12</td>\n",
       "      <td>2019-04-26</td>\n",
       "      <td>2019-04-20</td>\n",
       "      <td>OC</td>\n",
       "      <td>6292</td>\n",
       "      <td>ESSEL MINING AND INDS LTD</td>\n",
       "      <td>10,000,000</td>\n",
       "      <td>Organisation</td>\n",
       "      <td>`00001</td>\n",
       "      <td>West Bengal</td>\n",
       "      <td>Kolkata</td>\n",
       "      <td>Paid</td>\n",
       "      <td>BJP</td>\n",
       "      <td>10,000,000</td>\n",
       "      <td>`00691</td>\n",
       "      <td>Delhi</td>\n",
       "      <td>New Delhi</td>\n",
       "    </tr>\n",
       "    <tr>\n",
       "      <th>4</th>\n",
       "      <td>00001201904120000001165</td>\n",
       "      <td>2019-04-12</td>\n",
       "      <td>2019-04-12</td>\n",
       "      <td>2019-04-26</td>\n",
       "      <td>2019-04-20</td>\n",
       "      <td>OC</td>\n",
       "      <td>6254</td>\n",
       "      <td>ESSEL MINING AND INDS LTD</td>\n",
       "      <td>10,000,000</td>\n",
       "      <td>Organisation</td>\n",
       "      <td>`00001</td>\n",
       "      <td>West Bengal</td>\n",
       "      <td>Kolkata</td>\n",
       "      <td>Paid</td>\n",
       "      <td>BJP</td>\n",
       "      <td>10,000,000</td>\n",
       "      <td>`00691</td>\n",
       "      <td>Delhi</td>\n",
       "      <td>New Delhi</td>\n",
       "    </tr>\n",
       "  </tbody>\n",
       "</table>\n",
       "</div>"
      ],
      "text/plain": [
       "        Reference No_(URN) Journal Date Date of Purchase Date of Expiry  \\\n",
       "0  00847201904120000001164   2019-04-12       2019-04-12     2019-04-26   \n",
       "1  00001201904120000001165   2019-04-12       2019-04-12     2019-04-26   \n",
       "2  00001201904120000001165   2019-04-12       2019-04-12     2019-04-26   \n",
       "3  00001201904120000001165   2019-04-12       2019-04-12     2019-04-26   \n",
       "4  00001201904120000001165   2019-04-12       2019-04-12     2019-04-26   \n",
       "\n",
       "  Date of Encashment Prefix Bond Number  \\\n",
       "0         2019-04-16     OC        5485   \n",
       "1         2019-04-20     OC        6258   \n",
       "2         2019-04-20     OC        6268   \n",
       "3         2019-04-20     OC        6292   \n",
       "4         2019-04-20     OC        6254   \n",
       "\n",
       "                                Purchaser Name  Purchase Amount  \\\n",
       "0  MEGHA ENGINEERING & INFRASTRUCTURES LIMITED       10,000,000   \n",
       "1                    ESSEL MINING AND INDS LTD       10,000,000   \n",
       "2                    ESSEL MINING AND INDS LTD       10,000,000   \n",
       "3                    ESSEL MINING AND INDS LTD       10,000,000   \n",
       "4                    ESSEL MINING AND INDS LTD       10,000,000   \n",
       "\n",
       "  Purchaser Type Issue Branch Code Issue_Branch_State Issue_Branch_City  \\\n",
       "0   Organisation            `00847          Telangana         Hyderabad   \n",
       "1   Organisation            `00001        West Bengal           Kolkata   \n",
       "2   Organisation            `00001        West Bengal           Kolkata   \n",
       "3   Organisation            `00001        West Bengal           Kolkata   \n",
       "4   Organisation            `00001        West Bengal           Kolkata   \n",
       "\n",
       "  Status Party Name     Amount Encash Branch Code Encash_Branch_State  \\\n",
       "0   Paid        BJP 10,000,000             `00691               Delhi   \n",
       "1   Paid        BJP 10,000,000             `00691               Delhi   \n",
       "2   Paid        BJP 10,000,000             `00691               Delhi   \n",
       "3   Paid        BJP 10,000,000             `00691               Delhi   \n",
       "4   Paid        BJP 10,000,000             `00691               Delhi   \n",
       "\n",
       "  Encash_Branch_City  \n",
       "0          New Delhi  \n",
       "1          New Delhi  \n",
       "2          New Delhi  \n",
       "3          New Delhi  \n",
       "4          New Delhi  "
      ]
     },
     "execution_count": 135,
     "metadata": {},
     "output_type": "execute_result"
    }
   ],
   "source": [
    "df.head()"
   ]
  },
  {
   "cell_type": "code",
   "execution_count": 28,
   "id": "12ec749f",
   "metadata": {},
   "outputs": [],
   "source": [
    "df_2 = purchase[purchase[\"Status\"]==\"Expired\"]"
   ]
  },
  {
   "cell_type": "code",
   "execution_count": 29,
   "id": "b13495f4",
   "metadata": {
    "scrolled": true
   },
   "outputs": [
    {
     "data": {
      "text/html": [
       "<div>\n",
       "<style scoped>\n",
       "    .dataframe tbody tr th:only-of-type {\n",
       "        vertical-align: middle;\n",
       "    }\n",
       "\n",
       "    .dataframe tbody tr th {\n",
       "        vertical-align: top;\n",
       "    }\n",
       "\n",
       "    .dataframe thead th {\n",
       "        text-align: right;\n",
       "    }\n",
       "</style>\n",
       "<table border=\"1\" class=\"dataframe\">\n",
       "  <thead>\n",
       "    <tr style=\"text-align: right;\">\n",
       "      <th></th>\n",
       "      <th>Sr No.</th>\n",
       "      <th>Reference No  (URN)</th>\n",
       "      <th>Journal Date</th>\n",
       "      <th>Date of Purchase</th>\n",
       "      <th>Date of Expiry</th>\n",
       "      <th>Name of the Purchaser</th>\n",
       "      <th>Prefix</th>\n",
       "      <th>Bond Number</th>\n",
       "      <th>Denominations</th>\n",
       "      <th>Issue Branch Code</th>\n",
       "      <th>Issue Teller</th>\n",
       "      <th>Status</th>\n",
       "      <th>UniqID</th>\n",
       "    </tr>\n",
       "  </thead>\n",
       "  <tbody>\n",
       "    <tr>\n",
       "      <th>7</th>\n",
       "      <td>9759</td>\n",
       "      <td>00800202210060000002513</td>\n",
       "      <td>06/Oct/2022</td>\n",
       "      <td>06/Oct/2022</td>\n",
       "      <td>20/Oct/2022</td>\n",
       "      <td>FUTURE GAMING AND HOTEL SERVICES PR</td>\n",
       "      <td>OC</td>\n",
       "      <td>10605</td>\n",
       "      <td>10000000</td>\n",
       "      <td>800</td>\n",
       "      <td>7273126</td>\n",
       "      <td>Expired</td>\n",
       "      <td>OC10605</td>\n",
       "    </tr>\n",
       "    <tr>\n",
       "      <th>23</th>\n",
       "      <td>9775</td>\n",
       "      <td>00800202210060000002513</td>\n",
       "      <td>06/Oct/2022</td>\n",
       "      <td>06/Oct/2022</td>\n",
       "      <td>20/Oct/2022</td>\n",
       "      <td>FUTURE GAMING AND HOTEL SERVICES PR</td>\n",
       "      <td>OC</td>\n",
       "      <td>10441</td>\n",
       "      <td>10000000</td>\n",
       "      <td>800</td>\n",
       "      <td>7273126</td>\n",
       "      <td>Expired</td>\n",
       "      <td>OC10441</td>\n",
       "    </tr>\n",
       "    <tr>\n",
       "      <th>36</th>\n",
       "      <td>9837</td>\n",
       "      <td>00800202210060000002513</td>\n",
       "      <td>06/Oct/2022</td>\n",
       "      <td>06/Oct/2022</td>\n",
       "      <td>20/Oct/2022</td>\n",
       "      <td>FUTURE GAMING AND HOTEL SERVICES PR</td>\n",
       "      <td>OC</td>\n",
       "      <td>10616</td>\n",
       "      <td>10000000</td>\n",
       "      <td>800</td>\n",
       "      <td>7273126</td>\n",
       "      <td>Expired</td>\n",
       "      <td>OC10616</td>\n",
       "    </tr>\n",
       "  </tbody>\n",
       "</table>\n",
       "</div>"
      ],
      "text/plain": [
       "    Sr No.      Reference No  (URN) Journal Date Date of Purchase  \\\n",
       "7     9759  00800202210060000002513  06/Oct/2022      06/Oct/2022   \n",
       "23    9775  00800202210060000002513  06/Oct/2022      06/Oct/2022   \n",
       "36    9837  00800202210060000002513  06/Oct/2022      06/Oct/2022   \n",
       "\n",
       "   Date of Expiry                Name of the Purchaser Prefix Bond Number  \\\n",
       "7     20/Oct/2022  FUTURE GAMING AND HOTEL SERVICES PR     OC       10605   \n",
       "23    20/Oct/2022  FUTURE GAMING AND HOTEL SERVICES PR     OC       10441   \n",
       "36    20/Oct/2022  FUTURE GAMING AND HOTEL SERVICES PR     OC       10616   \n",
       "\n",
       "    Denominations  Issue Branch Code  Issue Teller   Status   UniqID  \n",
       "7        10000000                800       7273126  Expired  OC10605  \n",
       "23       10000000                800       7273126  Expired  OC10441  \n",
       "36       10000000                800       7273126  Expired  OC10616  "
      ]
     },
     "execution_count": 29,
     "metadata": {},
     "output_type": "execute_result"
    }
   ],
   "source": [
    "df_2[df_2[\"Name of the Purchaser\"]==\"FUTURE GAMING AND HOTEL SERVICES PR\"]"
   ]
  },
  {
   "cell_type": "code",
   "execution_count": 30,
   "id": "ab5b7196",
   "metadata": {},
   "outputs": [],
   "source": [
    "df = df.rename(columns={\"Prefix_x\":\"Prefix\",\"Sr No._x\":\"Sr No.\",\"Bond Number_x\":\"Bond Number\",\"Denominations_x\":\"Denominations\"})"
   ]
  },
  {
   "cell_type": "code",
   "execution_count": 31,
   "id": "35cc83c4",
   "metadata": {},
   "outputs": [],
   "source": [
    "df_1 = pd.concat([df,df_2],ignore_index=True)"
   ]
  },
  {
   "cell_type": "code",
   "execution_count": 32,
   "id": "e2c25a02",
   "metadata": {},
   "outputs": [
    {
     "name": "stdout",
     "output_type": "stream",
     "text": [
      "<class 'pandas.core.frame.DataFrame'>\n",
      "RangeIndex: 20551 entries, 0 to 20550\n",
      "Data columns (total 22 columns):\n",
      " #   Column                          Non-Null Count  Dtype  \n",
      "---  ------                          --------------  -----  \n",
      " 0   Sr No.                          18871 non-null  float64\n",
      " 1   Reference No  (URN)             18871 non-null  object \n",
      " 2   Journal Date                    18871 non-null  object \n",
      " 3   Date of Purchase                18871 non-null  object \n",
      " 4   Date of Expiry                  18871 non-null  object \n",
      " 5   Name of the Purchaser           18871 non-null  object \n",
      " 6   Prefix                          18871 non-null  object \n",
      " 7   Bond Number                     18871 non-null  object \n",
      " 8   Denominations                   18871 non-null  float64\n",
      " 9   Issue Branch Code               18871 non-null  float64\n",
      " 10  Issue Teller                    18871 non-null  float64\n",
      " 11  Status                          18871 non-null  object \n",
      " 12  UniqID                          20551 non-null  object \n",
      " 13  Sr No._y                        20421 non-null  float64\n",
      " 14  Date of Encashment              20421 non-null  object \n",
      " 15  Name of the Political Party     20421 non-null  object \n",
      " 16  Account no. of Political Party  20421 non-null  object \n",
      " 17  Prefix_y                        20421 non-null  object \n",
      " 18  Bond Number_y                   20421 non-null  object \n",
      " 19  Denominations_y                 20421 non-null  float64\n",
      " 20  Pay Branch Code                 20421 non-null  float64\n",
      " 21  Pay Teller                      20421 non-null  float64\n",
      "dtypes: float64(8), object(14)\n",
      "memory usage: 3.4+ MB\n"
     ]
    }
   ],
   "source": [
    "df_1.info()"
   ]
  },
  {
   "cell_type": "markdown",
   "id": "70caffba",
   "metadata": {},
   "source": [
    "#### Importing Purchaser Details file"
   ]
  },
  {
   "cell_type": "code",
   "execution_count": 136,
   "id": "780cdd2d",
   "metadata": {},
   "outputs": [],
   "source": [
    "# pdf_path3 = \"C:/Users/ksrch/Downloads/Electoral B Data/PurchaserDetails.pdf\""
   ]
  },
  {
   "cell_type": "code",
   "execution_count": 35,
   "id": "4937af48",
   "metadata": {},
   "outputs": [],
   "source": [
    "# P_Details = tabula.read_pdf(pdf_path3, pages='all', multiple_tables=False)"
   ]
  },
  {
   "cell_type": "code",
   "execution_count": 37,
   "id": "add84178",
   "metadata": {},
   "outputs": [],
   "source": [
    "# p_df = P_Details[0]"
   ]
  },
  {
   "cell_type": "code",
   "execution_count": 38,
   "id": "6fea5047",
   "metadata": {
    "scrolled": false
   },
   "outputs": [
    {
     "name": "stdout",
     "output_type": "stream",
     "text": [
      "<class 'pandas.core.frame.DataFrame'>\n",
      "RangeIndex: 18871 entries, 0 to 18870\n",
      "Data columns (total 3 columns):\n",
      " #   Column            Non-Null Count  Dtype \n",
      "---  ------            --------------  ----- \n",
      " 0   Date of Purchase  18871 non-null  object\n",
      " 1   Purchaser Name    18871 non-null  object\n",
      " 2   Denomination      18871 non-null  object\n",
      "dtypes: object(3)\n",
      "memory usage: 442.4+ KB\n"
     ]
    }
   ],
   "source": [
    "# p_df.info()"
   ]
  },
  {
   "cell_type": "code",
   "execution_count": 39,
   "id": "cc14eeb7",
   "metadata": {},
   "outputs": [],
   "source": [
    "# p_df[\"Denomination\"]=p_df[\"Denomination\"].str.replace(\",\",\"\").astype(int)"
   ]
  },
  {
   "cell_type": "markdown",
   "id": "bb364bb9",
   "metadata": {},
   "source": [
    "### Treating the Values of \"Name of the Purchaser\""
   ]
  },
  {
   "cell_type": "code",
   "execution_count": 40,
   "id": "d2510f7c",
   "metadata": {},
   "outputs": [],
   "source": [
    "temp = df_1[df_1[\"Name of the Purchaser\"].str.startswith(\"FUTURE\") & pd.notna(df_1[\"Name of the Purchaser\"])]"
   ]
  },
  {
   "cell_type": "code",
   "execution_count": 42,
   "id": "cfa5f2ce",
   "metadata": {
    "scrolled": true
   },
   "outputs": [
    {
     "data": {
      "text/plain": [
       "array(['FUTURE GAMING AND HOTEL SERVICES PR',\n",
       "       'FUTURE GAMING AND HOTEL SERVICES PRIVATE LIMITED',\n",
       "       'FUTURE GAMING AND HOTEL SERVICES PVT LTD'], dtype=object)"
      ]
     },
     "execution_count": 42,
     "metadata": {},
     "output_type": "execute_result"
    }
   ],
   "source": [
    "temp[\"Name of the Purchaser\"].unique()"
   ]
  },
  {
   "cell_type": "code",
   "execution_count": 43,
   "id": "1e15a24e",
   "metadata": {},
   "outputs": [],
   "source": [
    "temp1 = df_1[df_1[\"Name of the Purchaser\"].str.startswith(\"MEGHA\") & pd.notna(df_1[\"Name of the Purchaser\"])]"
   ]
  },
  {
   "cell_type": "code",
   "execution_count": 44,
   "id": "c8cb66fb",
   "metadata": {
    "scrolled": true
   },
   "outputs": [
    {
     "data": {
      "text/plain": [
       "array(['MEGHA ENGINEERING AND INFRASTRUCTURES LI MITED',\n",
       "       'MEGHA ENGINEERING AND INFRASTRUCTURES LTD',\n",
       "       'MEGHA ENGINEERING & INFRASTRUCTURES LIMITED'], dtype=object)"
      ]
     },
     "execution_count": 44,
     "metadata": {},
     "output_type": "execute_result"
    }
   ],
   "source": [
    "temp1[\"Name of the Purchaser\"].unique()"
   ]
  },
  {
   "cell_type": "code",
   "execution_count": 45,
   "id": "c5a8618d",
   "metadata": {},
   "outputs": [],
   "source": [
    "temp2 = df_1[df_1[\"Name of the Purchaser\"].str.startswith(\"VEDANTA\") & pd.notna(df_1[\"Name of the Purchaser\"])]"
   ]
  },
  {
   "cell_type": "code",
   "execution_count": 46,
   "id": "eea026b4",
   "metadata": {},
   "outputs": [
    {
     "data": {
      "text/plain": [
       "array(['VEDANTA LIMITED', 'VEDANTA LTD',\n",
       "       'VEDANTA ELECTRICALS PRIVATE LIMITED'], dtype=object)"
      ]
     },
     "execution_count": 46,
     "metadata": {},
     "output_type": "execute_result"
    }
   ],
   "source": [
    "temp2[\"Name of the Purchaser\"].unique()"
   ]
  },
  {
   "cell_type": "code",
   "execution_count": 47,
   "id": "ac271b17",
   "metadata": {},
   "outputs": [],
   "source": [
    "df_1.loc[df_1[\"Name of the Purchaser\"].isin(['FUTURE GAMING AND HOTEL SERVICES PR',\n",
    "       'FUTURE GAMING AND HOTEL SERVICES PRIVATE LIMITED',\n",
    "       'FUTURE GAMING AND HOTEL SERVICES PVT LTD']),\"Name of the Purchaser\"] = \"FUTURE GAMING AND HOTEL SERVICES\""
   ]
  },
  {
   "cell_type": "code",
   "execution_count": 48,
   "id": "a57f186d",
   "metadata": {},
   "outputs": [],
   "source": [
    "df_1.loc[df_1[\"Name of the Purchaser\"].isin(['MEGHA ENGINEERING AND INFRASTRUCTURES LI MITED',\n",
    "       'MEGHA ENGINEERING AND INFRASTRUCTURES LTD',\n",
    "       'MEGHA ENGINEERING & INFRASTRUCTURES LIMITED']),\"Name of the Purchaser\"] = \"MEGHA ENGINEERING & INFRASTRUCTURES LIMITED\""
   ]
  },
  {
   "cell_type": "code",
   "execution_count": 49,
   "id": "4ca1b7c0",
   "metadata": {},
   "outputs": [],
   "source": [
    "df_1.loc[df_1[\"Name of the Purchaser\"].isin(['VEDANTA LIMITED', 'VEDANTA LTD',\n",
    "       'VEDANTA ELECTRICALS PRIVATE LIMITED']),\"Name of the Purchaser\"] = \"VEDANTA LIMITED\""
   ]
  },
  {
   "cell_type": "markdown",
   "id": "06f4cde0",
   "metadata": {},
   "source": [
    "#### Saving the DataFrame"
   ]
  },
  {
   "cell_type": "code",
   "execution_count": 50,
   "id": "ec9d605f",
   "metadata": {},
   "outputs": [],
   "source": [
    "df = df_1.copy()"
   ]
  },
  {
   "cell_type": "code",
   "execution_count": 51,
   "id": "d08385e1",
   "metadata": {},
   "outputs": [],
   "source": [
    "df_1 = df_1.drop(columns=[\"Sr No.\",\"Sr No._y\",\"Prefix_y\",\"Bond Number_y\",\"Account no. of Political Party\"],axis=1)"
   ]
  },
  {
   "cell_type": "markdown",
   "id": "f60b1dbf",
   "metadata": {},
   "source": [
    "#### Renaming column names"
   ]
  },
  {
   "cell_type": "code",
   "execution_count": 52,
   "id": "d147557c",
   "metadata": {},
   "outputs": [],
   "source": [
    "df_1.rename(columns={\"Denominations\":\"Purchase Amount\",\"Denominations_y\":\"Amount\"},inplace=True)"
   ]
  },
  {
   "cell_type": "code",
   "execution_count": 53,
   "id": "f0720fd9",
   "metadata": {},
   "outputs": [],
   "source": [
    "df_1.rename(columns={\"Reference No  (URN)\":\"Reference No_(URN)\"},inplace=True)"
   ]
  },
  {
   "cell_type": "code",
   "execution_count": 54,
   "id": "4ae51070",
   "metadata": {},
   "outputs": [],
   "source": [
    "df_1.drop(columns=[\"Issue Teller\",\"Pay Teller\"],inplace=True)"
   ]
  },
  {
   "cell_type": "code",
   "execution_count": 55,
   "id": "195bbcb8",
   "metadata": {},
   "outputs": [],
   "source": [
    "df_1.rename(columns={\"Name of the Purchaser\":\"Purchaser Name\"},inplace=True)"
   ]
  },
  {
   "cell_type": "markdown",
   "id": "b7ec570e",
   "metadata": {},
   "source": [
    "### Merging the Purchaser Type Table with our DataFrame"
   ]
  },
  {
   "cell_type": "code",
   "execution_count": 56,
   "id": "b6a9c3c7",
   "metadata": {},
   "outputs": [],
   "source": [
    "temp4 = pd.read_excel(\"C:/Users/ksrch/OneDrive/Documents/Purchaser Type.xlsx\")"
   ]
  },
  {
   "cell_type": "code",
   "execution_count": 57,
   "id": "bc92ebbc",
   "metadata": {
    "scrolled": true
   },
   "outputs": [
    {
     "data": {
      "text/html": [
       "<div>\n",
       "<style scoped>\n",
       "    .dataframe tbody tr th:only-of-type {\n",
       "        vertical-align: middle;\n",
       "    }\n",
       "\n",
       "    .dataframe tbody tr th {\n",
       "        vertical-align: top;\n",
       "    }\n",
       "\n",
       "    .dataframe thead th {\n",
       "        text-align: right;\n",
       "    }\n",
       "</style>\n",
       "<table border=\"1\" class=\"dataframe\">\n",
       "  <thead>\n",
       "    <tr style=\"text-align: right;\">\n",
       "      <th></th>\n",
       "      <th>Purchaser Name</th>\n",
       "      <th>Purchaser Type</th>\n",
       "    </tr>\n",
       "  </thead>\n",
       "  <tbody>\n",
       "    <tr>\n",
       "      <th>428</th>\n",
       "      <td>HEALTHTECH SOLUTION</td>\n",
       "      <td>Organisation</td>\n",
       "    </tr>\n",
       "  </tbody>\n",
       "</table>\n",
       "</div>"
      ],
      "text/plain": [
       "          Purchaser Name Purchaser Type\n",
       "428  HEALTHTECH SOLUTION   Organisation"
      ]
     },
     "execution_count": 57,
     "metadata": {},
     "output_type": "execute_result"
    }
   ],
   "source": [
    "temp4.sample()"
   ]
  },
  {
   "cell_type": "code",
   "execution_count": 58,
   "id": "0a648ed2",
   "metadata": {},
   "outputs": [],
   "source": [
    "df_1 = pd.merge(df_1,temp4,on=\"Purchaser Name\",how=\"left\")"
   ]
  },
  {
   "cell_type": "code",
   "execution_count": 59,
   "id": "e20564a2",
   "metadata": {
    "scrolled": true
   },
   "outputs": [
    {
     "data": {
      "text/html": [
       "<div>\n",
       "<style scoped>\n",
       "    .dataframe tbody tr th:only-of-type {\n",
       "        vertical-align: middle;\n",
       "    }\n",
       "\n",
       "    .dataframe tbody tr th {\n",
       "        vertical-align: top;\n",
       "    }\n",
       "\n",
       "    .dataframe thead th {\n",
       "        text-align: right;\n",
       "    }\n",
       "</style>\n",
       "<table border=\"1\" class=\"dataframe\">\n",
       "  <thead>\n",
       "    <tr style=\"text-align: right;\">\n",
       "      <th></th>\n",
       "      <th>Reference No_(URN)</th>\n",
       "      <th>Journal Date</th>\n",
       "      <th>Date of Purchase</th>\n",
       "      <th>Date of Expiry</th>\n",
       "      <th>Purchaser Name</th>\n",
       "      <th>Prefix</th>\n",
       "      <th>Bond Number</th>\n",
       "      <th>Purchase Amount</th>\n",
       "      <th>Issue Branch Code</th>\n",
       "      <th>Status</th>\n",
       "      <th>UniqID</th>\n",
       "      <th>Date of Encashment</th>\n",
       "      <th>Name of the Political Party</th>\n",
       "      <th>Amount</th>\n",
       "      <th>Pay Branch Code</th>\n",
       "      <th>Purchaser Type</th>\n",
       "    </tr>\n",
       "  </thead>\n",
       "  <tbody>\n",
       "    <tr>\n",
       "      <th>5842</th>\n",
       "      <td>00001202104090000001799</td>\n",
       "      <td>09/Apr/2021</td>\n",
       "      <td>09/Apr/2021</td>\n",
       "      <td>23/Apr/2021</td>\n",
       "      <td>RONAK AJMERA</td>\n",
       "      <td>OL</td>\n",
       "      <td>1367</td>\n",
       "      <td>100,000</td>\n",
       "      <td>1</td>\n",
       "      <td>Paid</td>\n",
       "      <td>OL1367</td>\n",
       "      <td>12/Apr/2021</td>\n",
       "      <td>ALL INDIA TRINAMOOL CONGRESS</td>\n",
       "      <td>100,000</td>\n",
       "      <td>1</td>\n",
       "      <td>Individual</td>\n",
       "    </tr>\n",
       "  </tbody>\n",
       "</table>\n",
       "</div>"
      ],
      "text/plain": [
       "           Reference No_(URN) Journal Date Date of Purchase Date of Expiry  \\\n",
       "5842  00001202104090000001799  09/Apr/2021      09/Apr/2021    23/Apr/2021   \n",
       "\n",
       "     Purchaser Name Prefix Bond Number  Purchase Amount  Issue Branch Code  \\\n",
       "5842   RONAK AJMERA     OL        1367          100,000                  1   \n",
       "\n",
       "     Status  UniqID Date of Encashment   Name of the Political Party  Amount  \\\n",
       "5842   Paid  OL1367        12/Apr/2021  ALL INDIA TRINAMOOL CONGRESS 100,000   \n",
       "\n",
       "      Pay Branch Code Purchaser Type  \n",
       "5842                1     Individual  "
      ]
     },
     "execution_count": 59,
     "metadata": {},
     "output_type": "execute_result"
    }
   ],
   "source": [
    "df_1.sample()"
   ]
  },
  {
   "cell_type": "markdown",
   "id": "5e6ae174",
   "metadata": {},
   "source": [
    "#### Changing the Datatype"
   ]
  },
  {
   "cell_type": "code",
   "execution_count": 62,
   "id": "d1cea46d",
   "metadata": {},
   "outputs": [],
   "source": [
    "df_1[\"Issue Branch Code\"] = df_1[\"Issue Branch Code\"].astype(str)"
   ]
  },
  {
   "cell_type": "code",
   "execution_count": 63,
   "id": "032e09e6",
   "metadata": {},
   "outputs": [],
   "source": [
    "df_1[\"Pay Branch Code\"] = df_1[\"Pay Branch Code\"].astype(str)"
   ]
  },
  {
   "cell_type": "code",
   "execution_count": 64,
   "id": "9add4dfc",
   "metadata": {},
   "outputs": [
    {
     "data": {
      "text/plain": [
       "array(['800.0', '847.0', '691.0', '300.0', '1.0', '152.0', '125.0',\n",
       "       '628.0', '167.0', '2295.0', '41.0', '509.0', '232.0', 'nan'],\n",
       "      dtype=object)"
      ]
     },
     "execution_count": 64,
     "metadata": {},
     "output_type": "execute_result"
    }
   ],
   "source": [
    "df_1[\"Pay Branch Code\"].unique()"
   ]
  },
  {
   "cell_type": "markdown",
   "id": "16bbbe8f",
   "metadata": {},
   "source": [
    "#### Removing the decimal "
   ]
  },
  {
   "cell_type": "code",
   "execution_count": 65,
   "id": "490acccb",
   "metadata": {
    "scrolled": false
   },
   "outputs": [
    {
     "name": "stderr",
     "output_type": "stream",
     "text": [
      "C:\\Users\\ksrch\\AppData\\Local\\Temp\\ipykernel_15684\\3151697312.py:1: FutureWarning: The default value of regex will change from True to False in a future version.\n",
      "  df_1[\"Pay Branch Code\"] = df_1[\"Pay Branch Code\"].str.replace(r\"\\.0$\",\"\")\n"
     ]
    }
   ],
   "source": [
    "df_1[\"Pay Branch Code\"] = df_1[\"Pay Branch Code\"].str.replace(r\"\\.0$\",\"\")"
   ]
  },
  {
   "cell_type": "code",
   "execution_count": 66,
   "id": "696a43cd",
   "metadata": {
    "scrolled": true
   },
   "outputs": [
    {
     "data": {
      "text/plain": [
       "array(['800', '847', '691', '300', '1', '152', '125', '628', '167',\n",
       "       '2295', '41', '509', '232', 'nan'], dtype=object)"
      ]
     },
     "execution_count": 66,
     "metadata": {},
     "output_type": "execute_result"
    }
   ],
   "source": [
    "df_1[\"Pay Branch Code\"].unique()"
   ]
  },
  {
   "cell_type": "code",
   "execution_count": 67,
   "id": "550ea8c9",
   "metadata": {},
   "outputs": [],
   "source": [
    "df_1[\"Pay Branch Code\"] = \"`\" + df_1[\"Pay Branch Code\"].apply(lambda x: x.zfill(5))"
   ]
  },
  {
   "cell_type": "code",
   "execution_count": 68,
   "id": "3fc7d04c",
   "metadata": {},
   "outputs": [
    {
     "name": "stderr",
     "output_type": "stream",
     "text": [
      "C:\\Users\\ksrch\\AppData\\Local\\Temp\\ipykernel_15684\\1888580295.py:1: FutureWarning: The default value of regex will change from True to False in a future version.\n",
      "  df_1[\"Issue Branch Code\"] = df_1[\"Issue Branch Code\"].str.replace(r\"\\.0$\",\"\")\n"
     ]
    }
   ],
   "source": [
    "df_1[\"Issue Branch Code\"] = df_1[\"Issue Branch Code\"].str.replace(r\"\\.0$\",\"\")"
   ]
  },
  {
   "cell_type": "code",
   "execution_count": 69,
   "id": "d43efd1d",
   "metadata": {},
   "outputs": [
    {
     "data": {
      "text/plain": [
       "array(['nan', '847', '300', '813', '1355', '1', '691', '41', '509', '628',\n",
       "       '461', '78', '941', '656', '800', '125', '152', '1308', '952',\n",
       "       '167'], dtype=object)"
      ]
     },
     "execution_count": 69,
     "metadata": {},
     "output_type": "execute_result"
    }
   ],
   "source": [
    "df_1[\"Issue Branch Code\"].unique()"
   ]
  },
  {
   "cell_type": "code",
   "execution_count": 70,
   "id": "4a9d8e5b",
   "metadata": {},
   "outputs": [],
   "source": [
    "df_1[\"Issue Branch Code\"] = \"`\" + df_1[\"Issue Branch Code\"].apply(lambda x: x.zfill(5))"
   ]
  },
  {
   "cell_type": "code",
   "execution_count": 71,
   "id": "ceccbe55",
   "metadata": {},
   "outputs": [
    {
     "data": {
      "text/plain": [
       "array(['`00nan', '`00847', '`00300', '`00813', '`01355', '`00001',\n",
       "       '`00691', '`00041', '`00509', '`00628', '`00461', '`00078',\n",
       "       '`00941', '`00656', '`00800', '`00125', '`00152', '`01308',\n",
       "       '`00952', '`00167'], dtype=object)"
      ]
     },
     "execution_count": 71,
     "metadata": {},
     "output_type": "execute_result"
    }
   ],
   "source": [
    "df_1[\"Issue Branch Code\"].unique()"
   ]
  },
  {
   "cell_type": "code",
   "execution_count": 72,
   "id": "84577305",
   "metadata": {},
   "outputs": [
    {
     "data": {
      "text/plain": [
       "array(['`00800', '`00847', '`00691', '`00300', '`00001', '`00152',\n",
       "       '`00125', '`00628', '`00167', '`02295', '`00041', '`00509',\n",
       "       '`00232', '`00nan'], dtype=object)"
      ]
     },
     "execution_count": 72,
     "metadata": {},
     "output_type": "execute_result"
    }
   ],
   "source": [
    "df_1[\"Pay Branch Code\"].unique()"
   ]
  },
  {
   "cell_type": "code",
   "execution_count": 73,
   "id": "bd2f058a",
   "metadata": {},
   "outputs": [],
   "source": [
    "df_1.loc[df_1[\"Issue Branch Code\"]==\"`00nan\",\"Issue Branch Code\"] = np.nan"
   ]
  },
  {
   "cell_type": "code",
   "execution_count": 74,
   "id": "e928f13a",
   "metadata": {},
   "outputs": [],
   "source": [
    "df_1.loc[df_1[\"Pay Branch Code\"]==\"`00nan\",\"Pay Branch Code\"] = np.nan"
   ]
  },
  {
   "cell_type": "markdown",
   "id": "afa60d45",
   "metadata": {},
   "source": [
    "#### Mapping the city and state to the bank code and creating new columns"
   ]
  },
  {
   "cell_type": "code",
   "execution_count": 75,
   "id": "ffe48c17",
   "metadata": {},
   "outputs": [],
   "source": [
    "state = {'`00847':\"Telangana\", '`00300':\"Maharashtra\", '`00813':\"Karnataka\", '`01355':\"Gujarat\", '`00001':\"West Bengal\",\n",
    "                      '`00691':\"Delhi\",'`00041':\"Odisha\", '`00509':\"Goa\", '`00628':\"Punjab\", '`00461':\"Chhattisgarh\",\n",
    "                      '`00078':\"Assam\", '`00941':\"Kerala\",'`00656':\"Rajasthan\", '`00800':\"Tamil Nadu\", '`00125':\"Uttar Pradesh\",\n",
    "                      '`00152':\"Bihar\", '`01308':\"Madhya Pradesh\", '`00952':\"Andhra Pradesh\",\n",
    "       '`00167':\"Jharkhand\",\"`02295\":\"Jammu and Kashmir\",\"`00232\":\"Sikkim\"}"
   ]
  },
  {
   "cell_type": "code",
   "execution_count": 76,
   "id": "34c4919d",
   "metadata": {},
   "outputs": [],
   "source": [
    "city = {'`00847':\"Hyderabad\", '`00300':\"Mumbai\", '`00813':\"Bengaluru\", '`01355':\"Gandhinagar\", '`00001':\"Kolkata\",\n",
    "                     '`00691':\"New Delhi\",'`00041':\"Bhubaneswar\", '`00509':\"Panaji\", '`00628':\"Chandigarh\", '`00461':\"Raipur\",\n",
    "                     '`00078':\"Guwahati\", '`00941':\"Thiruvananthapuram\",'`00656':\"Jaipur\", '`00800':\"Chennai\", '`00125':\"Lucknow\",\n",
    "                     '`00152':\"Patna\", '`01308':\"Bhopal\",'`00952':\"Vishakhapatnam\",\n",
    "       '`00167':\"Ranchi\",\"`02295\":\"Srinagar\", \"`00232\":\"Gangtok\"}"
   ]
  },
  {
   "cell_type": "code",
   "execution_count": 77,
   "id": "9d245d54",
   "metadata": {},
   "outputs": [],
   "source": [
    "df_1[\"Issue_Branch_State\"] = df_1[\"Issue Branch Code\"].map(state)"
   ]
  },
  {
   "cell_type": "code",
   "execution_count": 78,
   "id": "2511bd48",
   "metadata": {},
   "outputs": [],
   "source": [
    "df_1[\"Issue_Branch_City\"] = df_1[\"Issue Branch Code\"].map(city)"
   ]
  },
  {
   "cell_type": "code",
   "execution_count": 79,
   "id": "a2aec8a9",
   "metadata": {},
   "outputs": [],
   "source": [
    "df_1[\"Pay_Branch_State\"] = df_1[\"Pay Branch Code\"].map(state)"
   ]
  },
  {
   "cell_type": "code",
   "execution_count": 80,
   "id": "e083357d",
   "metadata": {},
   "outputs": [],
   "source": [
    "df_1[\"Pay_Branch_City\"] = df_1[\"Pay Branch Code\"].map(city)"
   ]
  },
  {
   "cell_type": "markdown",
   "id": "669d1f2b",
   "metadata": {},
   "source": [
    "#### Converting Party name to Shorter Form"
   ]
  },
  {
   "cell_type": "code",
   "execution_count": 81,
   "id": "c24d18b8",
   "metadata": {
    "scrolled": true
   },
   "outputs": [
    {
     "data": {
      "text/plain": [
       "array(['ALL INDIA ANNA DRAVIDA MUNNETRA KAZHAGAM',\n",
       "       'BHARAT RASHTRA SAMITHI', 'BHARATIYA JANATA PARTY',\n",
       "       'PRESIDENT, ALL INDIA CONGRESS COMMITTEE', 'SHIVSENA',\n",
       "       'TELUGU DESAM PARTY',\n",
       "       'YSR  CONGRESS PARTY  (YUVAJANA SRAMIKA RYTHU CONGRESS PARTY)',\n",
       "       'DRAVIDA MUNNETRA KAZHAGAM (DMK)', 'JANATA DAL ( SECULAR )',\n",
       "       'NATIONALIST CONGRESS PARTY MAHARASHTRA PRADESH',\n",
       "       'ALL INDIA TRINAMOOL CONGRESS', 'BIHAR PRADESH JANTA DAL(UNITED)',\n",
       "       'RASHTRIYA JANTA DAL', 'AAM AADMI PARTY',\n",
       "       'ADYAKSHA SAMAJVADI PARTY', 'SHIROMANI AKALI DAL',\n",
       "       'JHARKHAND MUKTI MORCHA', 'JAMMU AND KASHMIR NATIONAL CONFERENCE',\n",
       "       'BIJU JANATA DAL', 'GOA FORWARD PARTY',\n",
       "       'MAHARASHTRAWADI GOMNTAK PARTY', 'SIKKIM KRANTIKARI MORCHA',\n",
       "       'JANASENA PARTY', 'SIKKIM DEMOCRATIC FRONT', nan], dtype=object)"
      ]
     },
     "execution_count": 81,
     "metadata": {},
     "output_type": "execute_result"
    }
   ],
   "source": [
    "df_1[\"Name of the Political Party\"].unique()"
   ]
  },
  {
   "cell_type": "code",
   "execution_count": 82,
   "id": "bba6227b",
   "metadata": {},
   "outputs": [],
   "source": [
    "name = {\"ALL INDIA ANNA DRAVIDA MUNNETRA KAZHAGAM\":\"AIADMK\",\n",
    "       \"BHARAT RASHTRA SAMITHI\":\"BRS\",\"BHARATIYA JANATA PARTY\":\"BJP\",\n",
    "       \"PRESIDENT, ALL INDIA CONGRESS COMMITTEE\":\"INC\",\"SHIVSENA\":\"SHIVSENA\",\n",
    "       \"TELUGU DESAM PARTY\":\"TDP\",\"YSR  CONGRESS PARTY  (YUVAJANA SRAMIKA RYTHU CONGRESS PARTY)\":\"YSRCP\",\n",
    "       \"DRAVIDA MUNNETRA KAZHAGAM (DMK)\":\"DMK\",\"JANATA DAL ( SECULAR )\":\"JD(S)\",\n",
    "       \"NATIONALIST CONGRESS PARTY MAHARASHTRA PRADESH\":\"NCP\",\"ALL INDIA TRINAMOOL CONGRESS\":\"AITC\",\n",
    "       \"BIHAR PRADESH JANTA DAL(UNITED)\":\"JD(U)\",\"RASHTRIYA JANTA DAL\":\"RJD\",\n",
    "       \"AAM AADMI PARTY\":\"AAP\",\"ADYAKSHA SAMAJVADI PARTY\":\"SP\",\"SHIROMANI AKALI DAL\":\"SAD\",\n",
    "       \"JHARKHAND MUKTI MORCHA\":\"JMM\",\"JAMMU AND KASHMIR NATIONAL CONFERENCE\":\"JKNC\",\n",
    "       \"BIJU JANATA DAL\":\"BJD\",\"GOA FORWARD PARTY\":\"GFP\",\"MAHARASHTRAWADI GOMNTAK PARTY\":\"MGP\",\n",
    "       \"SIKKIM KRANTIKARI MORCHA\":\"SKM\",\"JANASENA PARTY\":\"JSP\",\"SIKKIM DEMOCRATIC FRONT\":\"SDF\"}"
   ]
  },
  {
   "cell_type": "code",
   "execution_count": 83,
   "id": "e65d8c31",
   "metadata": {},
   "outputs": [],
   "source": [
    "df_1[\"Party Name\"] = df_1[\"Name of the Political Party\"].map(name)"
   ]
  },
  {
   "cell_type": "code",
   "execution_count": 84,
   "id": "374bd0cf",
   "metadata": {},
   "outputs": [
    {
     "data": {
      "text/html": [
       "<div>\n",
       "<style scoped>\n",
       "    .dataframe tbody tr th:only-of-type {\n",
       "        vertical-align: middle;\n",
       "    }\n",
       "\n",
       "    .dataframe tbody tr th {\n",
       "        vertical-align: top;\n",
       "    }\n",
       "\n",
       "    .dataframe thead th {\n",
       "        text-align: right;\n",
       "    }\n",
       "</style>\n",
       "<table border=\"1\" class=\"dataframe\">\n",
       "  <thead>\n",
       "    <tr style=\"text-align: right;\">\n",
       "      <th></th>\n",
       "      <th>Reference No_(URN)</th>\n",
       "      <th>Journal Date</th>\n",
       "      <th>Date of Purchase</th>\n",
       "      <th>Date of Expiry</th>\n",
       "      <th>Purchaser Name</th>\n",
       "      <th>Prefix</th>\n",
       "      <th>Bond Number</th>\n",
       "      <th>Purchase Amount</th>\n",
       "      <th>Issue Branch Code</th>\n",
       "      <th>Status</th>\n",
       "      <th>...</th>\n",
       "      <th>Date of Encashment</th>\n",
       "      <th>Name of the Political Party</th>\n",
       "      <th>Amount</th>\n",
       "      <th>Pay Branch Code</th>\n",
       "      <th>Purchaser Type</th>\n",
       "      <th>Issue_Branch_State</th>\n",
       "      <th>Issue_Branch_City</th>\n",
       "      <th>Pay_Branch_State</th>\n",
       "      <th>Pay_Branch_City</th>\n",
       "      <th>Party Name</th>\n",
       "    </tr>\n",
       "  </thead>\n",
       "  <tbody>\n",
       "    <tr>\n",
       "      <th>16129</th>\n",
       "      <td>00691202307120000003198</td>\n",
       "      <td>12/Jul/2023</td>\n",
       "      <td>12/Jul/2023</td>\n",
       "      <td>26/Jul/2023</td>\n",
       "      <td>VIKAS AGGARWAL</td>\n",
       "      <td>OC</td>\n",
       "      <td>13956</td>\n",
       "      <td>10,000,000</td>\n",
       "      <td>`00691</td>\n",
       "      <td>Paid</td>\n",
       "      <td>...</td>\n",
       "      <td>15/Jul/2023</td>\n",
       "      <td>BIJU JANATA DAL</td>\n",
       "      <td>10,000,000</td>\n",
       "      <td>`00041</td>\n",
       "      <td>Individual</td>\n",
       "      <td>Delhi</td>\n",
       "      <td>New Delhi</td>\n",
       "      <td>Odisha</td>\n",
       "      <td>Bhubaneswar</td>\n",
       "      <td>BJD</td>\n",
       "    </tr>\n",
       "  </tbody>\n",
       "</table>\n",
       "<p>1 rows × 21 columns</p>\n",
       "</div>"
      ],
      "text/plain": [
       "            Reference No_(URN) Journal Date Date of Purchase Date of Expiry  \\\n",
       "16129  00691202307120000003198  12/Jul/2023      12/Jul/2023    26/Jul/2023   \n",
       "\n",
       "       Purchaser Name Prefix Bond Number  Purchase Amount Issue Branch Code  \\\n",
       "16129  VIKAS AGGARWAL     OC       13956       10,000,000            `00691   \n",
       "\n",
       "      Status  ... Date of Encashment Name of the Political Party     Amount  \\\n",
       "16129   Paid  ...        15/Jul/2023             BIJU JANATA DAL 10,000,000   \n",
       "\n",
       "       Pay Branch Code Purchaser Type Issue_Branch_State Issue_Branch_City  \\\n",
       "16129           `00041     Individual              Delhi         New Delhi   \n",
       "\n",
       "      Pay_Branch_State Pay_Branch_City Party Name  \n",
       "16129           Odisha     Bhubaneswar        BJD  \n",
       "\n",
       "[1 rows x 21 columns]"
      ]
     },
     "execution_count": 84,
     "metadata": {},
     "output_type": "execute_result"
    }
   ],
   "source": [
    "df_1.sample()"
   ]
  },
  {
   "cell_type": "markdown",
   "id": "64ce9812",
   "metadata": {},
   "source": [
    "#### Treating the improper values of Purchaser Name"
   ]
  },
  {
   "cell_type": "code",
   "execution_count": 90,
   "id": "549216cc",
   "metadata": {},
   "outputs": [
    {
     "name": "stderr",
     "output_type": "stream",
     "text": [
      "C:\\Users\\ksrch\\AppData\\Local\\Temp\\ipykernel_15684\\3522799724.py:1: FutureWarning: The default value of regex will change from True to False in a future version.\n",
      "  df_1[\"Purchaser Name\"] = df_1[\"Purchaser Name\"].str.replace(r\"\\s+\",\" \")\n"
     ]
    }
   ],
   "source": [
    "df_1[\"Purchaser Name\"] = df_1[\"Purchaser Name\"].str.replace(r\"\\s+\",\" \")"
   ]
  },
  {
   "cell_type": "markdown",
   "id": "5959df25",
   "metadata": {},
   "source": [
    "#### Dropping UniqID and Name of the Political Party columns"
   ]
  },
  {
   "cell_type": "code",
   "execution_count": 92,
   "id": "a2e0962f",
   "metadata": {},
   "outputs": [],
   "source": [
    "df_1.drop(columns=\"UniqID\",axis=1,inplace=True)"
   ]
  },
  {
   "cell_type": "code",
   "execution_count": 93,
   "id": "2a82dfa2",
   "metadata": {},
   "outputs": [],
   "source": [
    "df_1.drop(columns=\"Name of the Political Party\",axis=1,inplace=True)"
   ]
  },
  {
   "cell_type": "markdown",
   "id": "2c777dee",
   "metadata": {},
   "source": [
    "#### Rearranging the Columns of the dataframe"
   ]
  },
  {
   "cell_type": "code",
   "execution_count": 94,
   "id": "49ad1231",
   "metadata": {
    "scrolled": true
   },
   "outputs": [
    {
     "data": {
      "text/plain": [
       "Index(['Reference No_(URN)', 'Journal Date', 'Date of Purchase',\n",
       "       'Date of Expiry', 'Purchaser Name', 'Prefix', 'Bond Number',\n",
       "       'Purchase Amount', 'Issue Branch Code', 'Status', 'Date of Encashment',\n",
       "       'Amount', 'Pay Branch Code', 'Purchaser Type', 'Issue_Branch_State',\n",
       "       'Issue_Branch_City', 'Pay_Branch_State', 'Pay_Branch_City',\n",
       "       'Party Name'],\n",
       "      dtype='object')"
      ]
     },
     "execution_count": 94,
     "metadata": {},
     "output_type": "execute_result"
    }
   ],
   "source": [
    "df_1.columns"
   ]
  },
  {
   "cell_type": "code",
   "execution_count": 95,
   "id": "5f19a761",
   "metadata": {},
   "outputs": [],
   "source": [
    "df_1 = df_1[['Reference No_(URN)', 'Journal Date', 'Date of Purchase',\n",
    "       'Date of Expiry', 'Date of Encashment','Prefix','Bond Number','Purchaser Name','Purchase Amount','Purchaser Type', \n",
    "        'Issue Branch Code','Issue_Branch_State','Issue_Branch_City','Status','Party Name','Amount',\n",
    "       'Pay Branch Code', 'Pay_Branch_State', 'Pay_Branch_City']]"
   ]
  },
  {
   "cell_type": "markdown",
   "id": "3ab857ea",
   "metadata": {},
   "source": [
    "#### Renaming Column names"
   ]
  },
  {
   "cell_type": "code",
   "execution_count": 96,
   "id": "313265a6",
   "metadata": {},
   "outputs": [],
   "source": [
    "df_1.rename(columns={\"Pay Branch Code\":\"Encash Branch Code\",\"Pay_Branch_State\":\"Encash_Branch_State\",\"Pay_Branch_City\":\"Encash_Branch_City\"},inplace=True)"
   ]
  },
  {
   "cell_type": "markdown",
   "id": "c1fc8050",
   "metadata": {},
   "source": [
    "#### Converting Datetype columns to Datetime"
   ]
  },
  {
   "cell_type": "code",
   "execution_count": 97,
   "id": "41e01bb6",
   "metadata": {},
   "outputs": [],
   "source": [
    "df_1[\"Journal Date\"] = pd.to_datetime(df[\"Journal Date\"],format= \"%d/%b/%Y\")"
   ]
  },
  {
   "cell_type": "code",
   "execution_count": 98,
   "id": "60b8a3d5",
   "metadata": {},
   "outputs": [],
   "source": [
    "df_1[\"Date of Purchase\"] = pd.to_datetime(df[\"Date of Purchase\"],format= \"%d/%b/%Y\")"
   ]
  },
  {
   "cell_type": "code",
   "execution_count": 99,
   "id": "b2a7d0a0",
   "metadata": {},
   "outputs": [],
   "source": [
    "df_1[\"Date of Expiry\"] = pd.to_datetime(df[\"Date of Expiry\"],format= \"%d/%b/%Y\")"
   ]
  },
  {
   "cell_type": "code",
   "execution_count": 100,
   "id": "169ef89e",
   "metadata": {},
   "outputs": [],
   "source": [
    "df_1[\"Date of Encashment\"] = pd.to_datetime(df[\"Date of Encashment\"],format= \"%d/%b/%Y\")"
   ]
  },
  {
   "cell_type": "code",
   "execution_count": 101,
   "id": "6c488718",
   "metadata": {},
   "outputs": [
    {
     "name": "stdout",
     "output_type": "stream",
     "text": [
      "<class 'pandas.core.frame.DataFrame'>\n",
      "Int64Index: 20551 entries, 0 to 20550\n",
      "Data columns (total 19 columns):\n",
      " #   Column               Non-Null Count  Dtype         \n",
      "---  ------               --------------  -----         \n",
      " 0   Reference No_(URN)   18871 non-null  object        \n",
      " 1   Journal Date         18871 non-null  datetime64[ns]\n",
      " 2   Date of Purchase     18871 non-null  datetime64[ns]\n",
      " 3   Date of Expiry       18871 non-null  datetime64[ns]\n",
      " 4   Date of Encashment   20421 non-null  datetime64[ns]\n",
      " 5   Prefix               18871 non-null  object        \n",
      " 6   Bond Number          18871 non-null  object        \n",
      " 7   Purchaser Name       18871 non-null  object        \n",
      " 8   Purchase Amount      18871 non-null  float64       \n",
      " 9   Purchaser Type       18871 non-null  object        \n",
      " 10  Issue Branch Code    18871 non-null  object        \n",
      " 11  Issue_Branch_State   18871 non-null  object        \n",
      " 12  Issue_Branch_City    18871 non-null  object        \n",
      " 13  Status               18871 non-null  object        \n",
      " 14  Party Name           20421 non-null  object        \n",
      " 15  Amount               20421 non-null  float64       \n",
      " 16  Encash Branch Code   20421 non-null  object        \n",
      " 17  Encash_Branch_State  20421 non-null  object        \n",
      " 18  Encash_Branch_City   20421 non-null  object        \n",
      "dtypes: datetime64[ns](4), float64(2), object(13)\n",
      "memory usage: 3.1+ MB\n"
     ]
    }
   ],
   "source": [
    "df_1.info()"
   ]
  },
  {
   "cell_type": "markdown",
   "id": "cb3aefaf",
   "metadata": {},
   "source": [
    "#### Rearragening the rows of the dataset by Journal Date"
   ]
  },
  {
   "cell_type": "code",
   "execution_count": 102,
   "id": "a79b4d8c",
   "metadata": {},
   "outputs": [],
   "source": [
    "df_1 = df_1.sort_values(by=\"Journal Date\",ignore_index=True)"
   ]
  },
  {
   "cell_type": "code",
   "execution_count": 103,
   "id": "643a337e",
   "metadata": {},
   "outputs": [
    {
     "data": {
      "text/html": [
       "<div>\n",
       "<style scoped>\n",
       "    .dataframe tbody tr th:only-of-type {\n",
       "        vertical-align: middle;\n",
       "    }\n",
       "\n",
       "    .dataframe tbody tr th {\n",
       "        vertical-align: top;\n",
       "    }\n",
       "\n",
       "    .dataframe thead th {\n",
       "        text-align: right;\n",
       "    }\n",
       "</style>\n",
       "<table border=\"1\" class=\"dataframe\">\n",
       "  <thead>\n",
       "    <tr style=\"text-align: right;\">\n",
       "      <th></th>\n",
       "      <th>Reference No_(URN)</th>\n",
       "      <th>Journal Date</th>\n",
       "      <th>Date of Purchase</th>\n",
       "      <th>Date of Expiry</th>\n",
       "      <th>Date of Encashment</th>\n",
       "      <th>Prefix</th>\n",
       "      <th>Bond Number</th>\n",
       "      <th>Purchaser Name</th>\n",
       "      <th>Purchase Amount</th>\n",
       "      <th>Purchaser Type</th>\n",
       "      <th>Issue Branch Code</th>\n",
       "      <th>Issue_Branch_State</th>\n",
       "      <th>Issue_Branch_City</th>\n",
       "      <th>Status</th>\n",
       "      <th>Party Name</th>\n",
       "      <th>Amount</th>\n",
       "      <th>Encash Branch Code</th>\n",
       "      <th>Encash_Branch_State</th>\n",
       "      <th>Encash_Branch_City</th>\n",
       "    </tr>\n",
       "  </thead>\n",
       "  <tbody>\n",
       "    <tr>\n",
       "      <th>0</th>\n",
       "      <td>00847201904120000001164</td>\n",
       "      <td>2019-04-12</td>\n",
       "      <td>2019-04-12</td>\n",
       "      <td>2019-04-26</td>\n",
       "      <td>2019-04-16</td>\n",
       "      <td>OC</td>\n",
       "      <td>5485</td>\n",
       "      <td>MEGHA ENGINEERING &amp; INFRASTRUCTURES LIMITED</td>\n",
       "      <td>10,000,000</td>\n",
       "      <td>Organisation</td>\n",
       "      <td>`00847</td>\n",
       "      <td>Telangana</td>\n",
       "      <td>Hyderabad</td>\n",
       "      <td>Paid</td>\n",
       "      <td>BJP</td>\n",
       "      <td>10,000,000</td>\n",
       "      <td>`00691</td>\n",
       "      <td>Delhi</td>\n",
       "      <td>New Delhi</td>\n",
       "    </tr>\n",
       "    <tr>\n",
       "      <th>1</th>\n",
       "      <td>00001201904120000001165</td>\n",
       "      <td>2019-04-12</td>\n",
       "      <td>2019-04-12</td>\n",
       "      <td>2019-04-26</td>\n",
       "      <td>2019-04-20</td>\n",
       "      <td>OC</td>\n",
       "      <td>6258</td>\n",
       "      <td>ESSEL MINING AND INDS LTD</td>\n",
       "      <td>10,000,000</td>\n",
       "      <td>Organisation</td>\n",
       "      <td>`00001</td>\n",
       "      <td>West Bengal</td>\n",
       "      <td>Kolkata</td>\n",
       "      <td>Paid</td>\n",
       "      <td>BJP</td>\n",
       "      <td>10,000,000</td>\n",
       "      <td>`00691</td>\n",
       "      <td>Delhi</td>\n",
       "      <td>New Delhi</td>\n",
       "    </tr>\n",
       "  </tbody>\n",
       "</table>\n",
       "</div>"
      ],
      "text/plain": [
       "        Reference No_(URN) Journal Date Date of Purchase Date of Expiry  \\\n",
       "0  00847201904120000001164   2019-04-12       2019-04-12     2019-04-26   \n",
       "1  00001201904120000001165   2019-04-12       2019-04-12     2019-04-26   \n",
       "\n",
       "  Date of Encashment Prefix Bond Number  \\\n",
       "0         2019-04-16     OC        5485   \n",
       "1         2019-04-20     OC        6258   \n",
       "\n",
       "                                Purchaser Name  Purchase Amount  \\\n",
       "0  MEGHA ENGINEERING & INFRASTRUCTURES LIMITED       10,000,000   \n",
       "1                    ESSEL MINING AND INDS LTD       10,000,000   \n",
       "\n",
       "  Purchaser Type Issue Branch Code Issue_Branch_State Issue_Branch_City  \\\n",
       "0   Organisation            `00847          Telangana         Hyderabad   \n",
       "1   Organisation            `00001        West Bengal           Kolkata   \n",
       "\n",
       "  Status Party Name     Amount Encash Branch Code Encash_Branch_State  \\\n",
       "0   Paid        BJP 10,000,000             `00691               Delhi   \n",
       "1   Paid        BJP 10,000,000             `00691               Delhi   \n",
       "\n",
       "  Encash_Branch_City  \n",
       "0          New Delhi  \n",
       "1          New Delhi  "
      ]
     },
     "execution_count": 103,
     "metadata": {},
     "output_type": "execute_result"
    }
   ],
   "source": [
    "df_1.head(2)"
   ]
  },
  {
   "cell_type": "code",
   "execution_count": null,
   "id": "89eb627b",
   "metadata": {},
   "outputs": [],
   "source": [
    "#df_1.to_excel(\"C:/Users/ksrch/OneDrive/Documents/ElecBonds.xlsx\", index=False)"
   ]
  },
  {
   "cell_type": "code",
   "execution_count": 104,
   "id": "0f815172",
   "metadata": {},
   "outputs": [],
   "source": [
    "df = df_1.copy()"
   ]
  },
  {
   "cell_type": "markdown",
   "id": "1baabdde",
   "metadata": {},
   "source": [
    "#### Sample of the Cleaned Dataset"
   ]
  },
  {
   "cell_type": "code",
   "execution_count": 105,
   "id": "8147d19f",
   "metadata": {
    "scrolled": true
   },
   "outputs": [
    {
     "data": {
      "text/html": [
       "<div>\n",
       "<style scoped>\n",
       "    .dataframe tbody tr th:only-of-type {\n",
       "        vertical-align: middle;\n",
       "    }\n",
       "\n",
       "    .dataframe tbody tr th {\n",
       "        vertical-align: top;\n",
       "    }\n",
       "\n",
       "    .dataframe thead th {\n",
       "        text-align: right;\n",
       "    }\n",
       "</style>\n",
       "<table border=\"1\" class=\"dataframe\">\n",
       "  <thead>\n",
       "    <tr style=\"text-align: right;\">\n",
       "      <th></th>\n",
       "      <th>Reference No_(URN)</th>\n",
       "      <th>Journal Date</th>\n",
       "      <th>Date of Purchase</th>\n",
       "      <th>Date of Expiry</th>\n",
       "      <th>Date of Encashment</th>\n",
       "      <th>Prefix</th>\n",
       "      <th>Bond Number</th>\n",
       "      <th>Purchaser Name</th>\n",
       "      <th>Purchase Amount</th>\n",
       "      <th>Purchaser Type</th>\n",
       "      <th>Issue Branch Code</th>\n",
       "      <th>Issue_Branch_State</th>\n",
       "      <th>Issue_Branch_City</th>\n",
       "      <th>Status</th>\n",
       "      <th>Party Name</th>\n",
       "      <th>Amount</th>\n",
       "      <th>Encash Branch Code</th>\n",
       "      <th>Encash_Branch_State</th>\n",
       "      <th>Encash_Branch_City</th>\n",
       "    </tr>\n",
       "  </thead>\n",
       "  <tbody>\n",
       "    <tr>\n",
       "      <th>0</th>\n",
       "      <td>00847201904120000001164</td>\n",
       "      <td>2019-04-12</td>\n",
       "      <td>2019-04-12</td>\n",
       "      <td>2019-04-26</td>\n",
       "      <td>2019-04-16</td>\n",
       "      <td>OC</td>\n",
       "      <td>5485</td>\n",
       "      <td>MEGHA ENGINEERING &amp; INFRASTRUCTURES LIMITED</td>\n",
       "      <td>10,000,000</td>\n",
       "      <td>Organisation</td>\n",
       "      <td>`00847</td>\n",
       "      <td>Telangana</td>\n",
       "      <td>Hyderabad</td>\n",
       "      <td>Paid</td>\n",
       "      <td>BJP</td>\n",
       "      <td>10,000,000</td>\n",
       "      <td>`00691</td>\n",
       "      <td>Delhi</td>\n",
       "      <td>New Delhi</td>\n",
       "    </tr>\n",
       "    <tr>\n",
       "      <th>1</th>\n",
       "      <td>00001201904120000001165</td>\n",
       "      <td>2019-04-12</td>\n",
       "      <td>2019-04-12</td>\n",
       "      <td>2019-04-26</td>\n",
       "      <td>2019-04-20</td>\n",
       "      <td>OC</td>\n",
       "      <td>6258</td>\n",
       "      <td>ESSEL MINING AND INDS LTD</td>\n",
       "      <td>10,000,000</td>\n",
       "      <td>Organisation</td>\n",
       "      <td>`00001</td>\n",
       "      <td>West Bengal</td>\n",
       "      <td>Kolkata</td>\n",
       "      <td>Paid</td>\n",
       "      <td>BJP</td>\n",
       "      <td>10,000,000</td>\n",
       "      <td>`00691</td>\n",
       "      <td>Delhi</td>\n",
       "      <td>New Delhi</td>\n",
       "    </tr>\n",
       "    <tr>\n",
       "      <th>2</th>\n",
       "      <td>00001201904120000001165</td>\n",
       "      <td>2019-04-12</td>\n",
       "      <td>2019-04-12</td>\n",
       "      <td>2019-04-26</td>\n",
       "      <td>2019-04-20</td>\n",
       "      <td>OC</td>\n",
       "      <td>6268</td>\n",
       "      <td>ESSEL MINING AND INDS LTD</td>\n",
       "      <td>10,000,000</td>\n",
       "      <td>Organisation</td>\n",
       "      <td>`00001</td>\n",
       "      <td>West Bengal</td>\n",
       "      <td>Kolkata</td>\n",
       "      <td>Paid</td>\n",
       "      <td>BJP</td>\n",
       "      <td>10,000,000</td>\n",
       "      <td>`00691</td>\n",
       "      <td>Delhi</td>\n",
       "      <td>New Delhi</td>\n",
       "    </tr>\n",
       "    <tr>\n",
       "      <th>3</th>\n",
       "      <td>00001201904120000001165</td>\n",
       "      <td>2019-04-12</td>\n",
       "      <td>2019-04-12</td>\n",
       "      <td>2019-04-26</td>\n",
       "      <td>2019-04-20</td>\n",
       "      <td>OC</td>\n",
       "      <td>6292</td>\n",
       "      <td>ESSEL MINING AND INDS LTD</td>\n",
       "      <td>10,000,000</td>\n",
       "      <td>Organisation</td>\n",
       "      <td>`00001</td>\n",
       "      <td>West Bengal</td>\n",
       "      <td>Kolkata</td>\n",
       "      <td>Paid</td>\n",
       "      <td>BJP</td>\n",
       "      <td>10,000,000</td>\n",
       "      <td>`00691</td>\n",
       "      <td>Delhi</td>\n",
       "      <td>New Delhi</td>\n",
       "    </tr>\n",
       "    <tr>\n",
       "      <th>4</th>\n",
       "      <td>00001201904120000001165</td>\n",
       "      <td>2019-04-12</td>\n",
       "      <td>2019-04-12</td>\n",
       "      <td>2019-04-26</td>\n",
       "      <td>2019-04-20</td>\n",
       "      <td>OC</td>\n",
       "      <td>6254</td>\n",
       "      <td>ESSEL MINING AND INDS LTD</td>\n",
       "      <td>10,000,000</td>\n",
       "      <td>Organisation</td>\n",
       "      <td>`00001</td>\n",
       "      <td>West Bengal</td>\n",
       "      <td>Kolkata</td>\n",
       "      <td>Paid</td>\n",
       "      <td>BJP</td>\n",
       "      <td>10,000,000</td>\n",
       "      <td>`00691</td>\n",
       "      <td>Delhi</td>\n",
       "      <td>New Delhi</td>\n",
       "    </tr>\n",
       "  </tbody>\n",
       "</table>\n",
       "</div>"
      ],
      "text/plain": [
       "        Reference No_(URN) Journal Date Date of Purchase Date of Expiry  \\\n",
       "0  00847201904120000001164   2019-04-12       2019-04-12     2019-04-26   \n",
       "1  00001201904120000001165   2019-04-12       2019-04-12     2019-04-26   \n",
       "2  00001201904120000001165   2019-04-12       2019-04-12     2019-04-26   \n",
       "3  00001201904120000001165   2019-04-12       2019-04-12     2019-04-26   \n",
       "4  00001201904120000001165   2019-04-12       2019-04-12     2019-04-26   \n",
       "\n",
       "  Date of Encashment Prefix Bond Number  \\\n",
       "0         2019-04-16     OC        5485   \n",
       "1         2019-04-20     OC        6258   \n",
       "2         2019-04-20     OC        6268   \n",
       "3         2019-04-20     OC        6292   \n",
       "4         2019-04-20     OC        6254   \n",
       "\n",
       "                                Purchaser Name  Purchase Amount  \\\n",
       "0  MEGHA ENGINEERING & INFRASTRUCTURES LIMITED       10,000,000   \n",
       "1                    ESSEL MINING AND INDS LTD       10,000,000   \n",
       "2                    ESSEL MINING AND INDS LTD       10,000,000   \n",
       "3                    ESSEL MINING AND INDS LTD       10,000,000   \n",
       "4                    ESSEL MINING AND INDS LTD       10,000,000   \n",
       "\n",
       "  Purchaser Type Issue Branch Code Issue_Branch_State Issue_Branch_City  \\\n",
       "0   Organisation            `00847          Telangana         Hyderabad   \n",
       "1   Organisation            `00001        West Bengal           Kolkata   \n",
       "2   Organisation            `00001        West Bengal           Kolkata   \n",
       "3   Organisation            `00001        West Bengal           Kolkata   \n",
       "4   Organisation            `00001        West Bengal           Kolkata   \n",
       "\n",
       "  Status Party Name     Amount Encash Branch Code Encash_Branch_State  \\\n",
       "0   Paid        BJP 10,000,000             `00691               Delhi   \n",
       "1   Paid        BJP 10,000,000             `00691               Delhi   \n",
       "2   Paid        BJP 10,000,000             `00691               Delhi   \n",
       "3   Paid        BJP 10,000,000             `00691               Delhi   \n",
       "4   Paid        BJP 10,000,000             `00691               Delhi   \n",
       "\n",
       "  Encash_Branch_City  \n",
       "0          New Delhi  \n",
       "1          New Delhi  \n",
       "2          New Delhi  \n",
       "3          New Delhi  \n",
       "4          New Delhi  "
      ]
     },
     "execution_count": 105,
     "metadata": {},
     "output_type": "execute_result"
    }
   ],
   "source": [
    "df.head()"
   ]
  },
  {
   "cell_type": "markdown",
   "id": "e9541d8e",
   "metadata": {},
   "source": [
    "### Data Overview:\n",
    "\n",
    "**Columns:** Reference No_(URN),Journal Date,Date of Purchase,Date of Expiry,Date of Encashment,Prefix,Bond Number,Purchaser Name,Purchase Amount,Purchaser Type,Issue Branch Code,Issue_Branch_State,Issue_Branch_City,Status,Party Name,Amount,Encash Branch Code,Encash_Branch_State and Encash_Branch_City\n",
    "\n",
    "**Description:**\n",
    "\n",
    "**Reference No_(URN):** Reference number used to track the bond that was purchased\n",
    "\n",
    "**Date of Purchase:** Date on which the bond was purchased\n",
    "\n",
    "**Date of Expiry:** Date on which the bond would expire\n",
    "\n",
    "**Date of Encashment:** Date on which the bond was encashed\n",
    "\n",
    "**Prefix:** unique text to identify each purchase\n",
    "\n",
    "**Bond Number:** The common key between the two tables \n",
    "\n",
    "**Purchaser Name:** The of the organisation or individual who purchased the bonds\n",
    "\n",
    "**Purchase Amount:** The amount the purchaser purchased to donate\n",
    "\n",
    "**Purchaser Type:** Whether the purchaser is an Individual or an Organisation\n",
    "\n",
    "**Issue Branch Code:** Bank branch code from which the bond was issued\n",
    "\n",
    "**Issue_Branch_State:** The state from which the bond was issued\n",
    "\n",
    "**Issue_Branch_City:** The city from which the bond was issued\n",
    "\n",
    "**Status:** Whether the amount for encashed/paid or expired\n",
    "\n",
    "**Part Name:** The name of the political party which received the donation\n",
    "\n",
    "**Amount:** The amount encashed by the political party\n",
    "\n",
    "**Encash_Branch_State:** The state from which the bonds were encashed\n",
    "\n",
    "**Encash_Branch_City:** The city"
   ]
  },
  {
   "cell_type": "markdown",
   "id": "cdcc7469",
   "metadata": {},
   "source": [
    "**Our dataset is now ready for analysis**"
   ]
  },
  {
   "cell_type": "markdown",
   "id": "697728bc",
   "metadata": {},
   "source": [
    "## Exploratory Data Analysis"
   ]
  },
  {
   "cell_type": "markdown",
   "id": "60914428",
   "metadata": {},
   "source": [
    "### Total Amount Donated"
   ]
  },
  {
   "cell_type": "code",
   "execution_count": 112,
   "id": "85dcd30b",
   "metadata": {},
   "outputs": [
    {
     "data": {
      "text/plain": [
       "127690893000.0"
      ]
     },
     "execution_count": 112,
     "metadata": {},
     "output_type": "execute_result"
    }
   ],
   "source": [
    "df[\"Amount\"].sum()"
   ]
  },
  {
   "cell_type": "markdown",
   "id": "10fa9769",
   "metadata": {},
   "source": [
    "### Total Number of Unique Donors"
   ]
  },
  {
   "cell_type": "code",
   "execution_count": 113,
   "id": "ae42da27",
   "metadata": {
    "scrolled": true
   },
   "outputs": [
    {
     "data": {
      "text/plain": [
       "1310"
      ]
     },
     "execution_count": 113,
     "metadata": {},
     "output_type": "execute_result"
    }
   ],
   "source": [
    "df[\"Purchaser Name\"].nunique()"
   ]
  },
  {
   "cell_type": "markdown",
   "id": "33366553",
   "metadata": {},
   "source": [
    "### Total Number of Donations"
   ]
  },
  {
   "cell_type": "code",
   "execution_count": 114,
   "id": "d95e0f0e",
   "metadata": {},
   "outputs": [
    {
     "data": {
      "text/plain": [
       "18871"
      ]
     },
     "execution_count": 114,
     "metadata": {},
     "output_type": "execute_result"
    }
   ],
   "source": [
    "df[\"Purchaser Name\"].count()"
   ]
  },
  {
   "cell_type": "markdown",
   "id": "ab367aca",
   "metadata": {},
   "source": [
    "### Total Number of Parties"
   ]
  },
  {
   "cell_type": "code",
   "execution_count": 115,
   "id": "1e291fb4",
   "metadata": {
    "scrolled": true
   },
   "outputs": [
    {
     "data": {
      "text/plain": [
       "24"
      ]
     },
     "execution_count": 115,
     "metadata": {},
     "output_type": "execute_result"
    }
   ],
   "source": [
    "df[\"Party Name\"].nunique()"
   ]
  },
  {
   "cell_type": "markdown",
   "id": "0ca49682",
   "metadata": {},
   "source": [
    "### Top 5 Parties by Amount received"
   ]
  },
  {
   "cell_type": "code",
   "execution_count": 109,
   "id": "4977d504",
   "metadata": {
    "scrolled": true
   },
   "outputs": [
    {
     "data": {
      "text/html": [
       "<div>\n",
       "<style scoped>\n",
       "    .dataframe tbody tr th:only-of-type {\n",
       "        vertical-align: middle;\n",
       "    }\n",
       "\n",
       "    .dataframe tbody tr th {\n",
       "        vertical-align: top;\n",
       "    }\n",
       "\n",
       "    .dataframe thead th {\n",
       "        text-align: right;\n",
       "    }\n",
       "</style>\n",
       "<table border=\"1\" class=\"dataframe\">\n",
       "  <thead>\n",
       "    <tr style=\"text-align: right;\">\n",
       "      <th></th>\n",
       "      <th>Amount</th>\n",
       "    </tr>\n",
       "    <tr>\n",
       "      <th>Party Name</th>\n",
       "      <th></th>\n",
       "    </tr>\n",
       "  </thead>\n",
       "  <tbody>\n",
       "    <tr>\n",
       "      <th>BJP</th>\n",
       "      <td>60,605,111,000</td>\n",
       "    </tr>\n",
       "    <tr>\n",
       "      <th>AITC</th>\n",
       "      <td>16,095,314,000</td>\n",
       "    </tr>\n",
       "    <tr>\n",
       "      <th>INC</th>\n",
       "      <td>14,218,655,000</td>\n",
       "    </tr>\n",
       "    <tr>\n",
       "      <th>BRS</th>\n",
       "      <td>12,147,099,000</td>\n",
       "    </tr>\n",
       "    <tr>\n",
       "      <th>BJD</th>\n",
       "      <td>7,755,000,000</td>\n",
       "    </tr>\n",
       "  </tbody>\n",
       "</table>\n",
       "</div>"
      ],
      "text/plain": [
       "                   Amount\n",
       "Party Name               \n",
       "BJP        60,605,111,000\n",
       "AITC       16,095,314,000\n",
       "INC        14,218,655,000\n",
       "BRS        12,147,099,000\n",
       "BJD         7,755,000,000"
      ]
     },
     "execution_count": 109,
     "metadata": {},
     "output_type": "execute_result"
    }
   ],
   "source": [
    "df.groupby(\"Party Name\")[\"Amount\"].sum().to_frame().sort_values(by=\"Amount\",ascending=False).head()"
   ]
  },
  {
   "cell_type": "markdown",
   "id": "f628ca72",
   "metadata": {},
   "source": [
    "### Top 5 Purchaser of Bonds / Donors"
   ]
  },
  {
   "cell_type": "code",
   "execution_count": 111,
   "id": "18721701",
   "metadata": {
    "scrolled": false
   },
   "outputs": [
    {
     "data": {
      "text/html": [
       "<div>\n",
       "<style scoped>\n",
       "    .dataframe tbody tr th:only-of-type {\n",
       "        vertical-align: middle;\n",
       "    }\n",
       "\n",
       "    .dataframe tbody tr th {\n",
       "        vertical-align: top;\n",
       "    }\n",
       "\n",
       "    .dataframe thead th {\n",
       "        text-align: right;\n",
       "    }\n",
       "</style>\n",
       "<table border=\"1\" class=\"dataframe\">\n",
       "  <thead>\n",
       "    <tr style=\"text-align: right;\">\n",
       "      <th></th>\n",
       "      <th>Purchase Amount</th>\n",
       "    </tr>\n",
       "    <tr>\n",
       "      <th>Purchaser Name</th>\n",
       "      <th></th>\n",
       "    </tr>\n",
       "  </thead>\n",
       "  <tbody>\n",
       "    <tr>\n",
       "      <th>FUTURE GAMING AND HOTEL SERVICES</th>\n",
       "      <td>13,680,000,000</td>\n",
       "    </tr>\n",
       "    <tr>\n",
       "      <th>MEGHA ENGINEERING &amp; INFRASTRUCTURES LIMITED</th>\n",
       "      <td>9,660,000,000</td>\n",
       "    </tr>\n",
       "    <tr>\n",
       "      <th>QWIKSUPPLYCHAINPRIVATELIMITED</th>\n",
       "      <td>4,100,000,000</td>\n",
       "    </tr>\n",
       "    <tr>\n",
       "      <th>VEDANTA LIMITED</th>\n",
       "      <td>4,024,000,000</td>\n",
       "    </tr>\n",
       "    <tr>\n",
       "      <th>HALDIA ENERGY LIMITED</th>\n",
       "      <td>3,770,000,000</td>\n",
       "    </tr>\n",
       "  </tbody>\n",
       "</table>\n",
       "</div>"
      ],
      "text/plain": [
       "                                             Purchase Amount\n",
       "Purchaser Name                                              \n",
       "FUTURE GAMING AND HOTEL SERVICES              13,680,000,000\n",
       "MEGHA ENGINEERING & INFRASTRUCTURES LIMITED    9,660,000,000\n",
       "QWIKSUPPLYCHAINPRIVATELIMITED                  4,100,000,000\n",
       "VEDANTA LIMITED                                4,024,000,000\n",
       "HALDIA ENERGY LIMITED                          3,770,000,000"
      ]
     },
     "execution_count": 111,
     "metadata": {},
     "output_type": "execute_result"
    }
   ],
   "source": [
    "df.groupby(\"Purchaser Name\")[\"Purchase Amount\"].sum().to_frame().sort_values(by=\"Purchase Amount\",ascending=False).head(5)"
   ]
  },
  {
   "cell_type": "markdown",
   "id": "d334e5de",
   "metadata": {},
   "source": [
    "### Total Amount Donated Per Year"
   ]
  },
  {
   "cell_type": "code",
   "execution_count": 118,
   "id": "921fb00c",
   "metadata": {
    "scrolled": true
   },
   "outputs": [
    {
     "data": {
      "text/html": [
       "<div>\n",
       "<style scoped>\n",
       "    .dataframe tbody tr th:only-of-type {\n",
       "        vertical-align: middle;\n",
       "    }\n",
       "\n",
       "    .dataframe tbody tr th {\n",
       "        vertical-align: top;\n",
       "    }\n",
       "\n",
       "    .dataframe thead th {\n",
       "        text-align: right;\n",
       "    }\n",
       "</style>\n",
       "<table border=\"1\" class=\"dataframe\">\n",
       "  <thead>\n",
       "    <tr style=\"text-align: right;\">\n",
       "      <th></th>\n",
       "      <th>Purchase Amount</th>\n",
       "    </tr>\n",
       "    <tr>\n",
       "      <th>Date of Purchase</th>\n",
       "      <th></th>\n",
       "    </tr>\n",
       "  </thead>\n",
       "  <tbody>\n",
       "    <tr>\n",
       "      <th>2,023</th>\n",
       "      <td>42,464,745,000</td>\n",
       "    </tr>\n",
       "    <tr>\n",
       "      <th>2,022</th>\n",
       "      <td>37,048,576,000</td>\n",
       "    </tr>\n",
       "    <tr>\n",
       "      <th>2,019</th>\n",
       "      <td>17,661,280,000</td>\n",
       "    </tr>\n",
       "    <tr>\n",
       "      <th>2,021</th>\n",
       "      <td>15,022,927,000</td>\n",
       "    </tr>\n",
       "    <tr>\n",
       "      <th>2,024</th>\n",
       "      <td>5,718,003,000</td>\n",
       "    </tr>\n",
       "    <tr>\n",
       "      <th>2,020</th>\n",
       "      <td>3,639,601,000</td>\n",
       "    </tr>\n",
       "  </tbody>\n",
       "</table>\n",
       "</div>"
      ],
      "text/plain": [
       "                  Purchase Amount\n",
       "Date of Purchase                 \n",
       "2,023              42,464,745,000\n",
       "2,022              37,048,576,000\n",
       "2,019              17,661,280,000\n",
       "2,021              15,022,927,000\n",
       "2,024               5,718,003,000\n",
       "2,020               3,639,601,000"
      ]
     },
     "execution_count": 118,
     "metadata": {},
     "output_type": "execute_result"
    }
   ],
   "source": [
    "df.groupby(df[\"Date of Purchase\"].dt.year)[\"Purchase Amount\"].sum().to_frame().sort_values(by=\"Purchase Amount\",ascending=False)"
   ]
  },
  {
   "cell_type": "markdown",
   "id": "41663cb9",
   "metadata": {},
   "source": [
    "### Total Amount of bonds purchased by Organisation and Individuals"
   ]
  },
  {
   "cell_type": "code",
   "execution_count": 122,
   "id": "86b0c327",
   "metadata": {
    "scrolled": true
   },
   "outputs": [
    {
     "data": {
      "text/html": [
       "<div>\n",
       "<style scoped>\n",
       "    .dataframe tbody tr th:only-of-type {\n",
       "        vertical-align: middle;\n",
       "    }\n",
       "\n",
       "    .dataframe tbody tr th {\n",
       "        vertical-align: top;\n",
       "    }\n",
       "\n",
       "    .dataframe thead th {\n",
       "        text-align: right;\n",
       "    }\n",
       "</style>\n",
       "<table border=\"1\" class=\"dataframe\">\n",
       "  <thead>\n",
       "    <tr style=\"text-align: right;\">\n",
       "      <th></th>\n",
       "      <th>Purchase Amount</th>\n",
       "    </tr>\n",
       "    <tr>\n",
       "      <th>Purchaser Type</th>\n",
       "      <th></th>\n",
       "    </tr>\n",
       "  </thead>\n",
       "  <tbody>\n",
       "    <tr>\n",
       "      <th>Organisation</th>\n",
       "      <td>117,523,747,000</td>\n",
       "    </tr>\n",
       "    <tr>\n",
       "      <th>Individual</th>\n",
       "      <td>4,031,385,000</td>\n",
       "    </tr>\n",
       "  </tbody>\n",
       "</table>\n",
       "</div>"
      ],
      "text/plain": [
       "                Purchase Amount\n",
       "Purchaser Type                 \n",
       "Organisation    117,523,747,000\n",
       "Individual        4,031,385,000"
      ]
     },
     "execution_count": 122,
     "metadata": {},
     "output_type": "execute_result"
    }
   ],
   "source": [
    "df.groupby(\"Purchaser Type\")[\"Purchase Amount\"].sum().to_frame().sort_values(by=\"Purchase Amount\",ascending=False)"
   ]
  },
  {
   "cell_type": "markdown",
   "id": "dd0f9720",
   "metadata": {},
   "source": [
    "### Top 5 states from which money was donated / Bonds were issued"
   ]
  },
  {
   "cell_type": "code",
   "execution_count": 125,
   "id": "7ee16888",
   "metadata": {
    "scrolled": true
   },
   "outputs": [
    {
     "data": {
      "text/html": [
       "<div>\n",
       "<style scoped>\n",
       "    .dataframe tbody tr th:only-of-type {\n",
       "        vertical-align: middle;\n",
       "    }\n",
       "\n",
       "    .dataframe tbody tr th {\n",
       "        vertical-align: top;\n",
       "    }\n",
       "\n",
       "    .dataframe thead th {\n",
       "        text-align: right;\n",
       "    }\n",
       "</style>\n",
       "<table border=\"1\" class=\"dataframe\">\n",
       "  <thead>\n",
       "    <tr style=\"text-align: right;\">\n",
       "      <th></th>\n",
       "      <th>Purchase Amount</th>\n",
       "    </tr>\n",
       "    <tr>\n",
       "      <th>Issue_Branch_State</th>\n",
       "      <th></th>\n",
       "    </tr>\n",
       "  </thead>\n",
       "  <tbody>\n",
       "    <tr>\n",
       "      <th>Telangana</th>\n",
       "      <td>29,189,070,000</td>\n",
       "    </tr>\n",
       "    <tr>\n",
       "      <th>Maharashtra</th>\n",
       "      <td>27,202,185,000</td>\n",
       "    </tr>\n",
       "    <tr>\n",
       "      <th>West Bengal</th>\n",
       "      <td>24,321,926,000</td>\n",
       "    </tr>\n",
       "    <tr>\n",
       "      <th>Delhi</th>\n",
       "      <td>16,830,706,000</td>\n",
       "    </tr>\n",
       "    <tr>\n",
       "      <th>Tamil Nadu</th>\n",
       "      <td>13,401,502,000</td>\n",
       "    </tr>\n",
       "  </tbody>\n",
       "</table>\n",
       "</div>"
      ],
      "text/plain": [
       "                    Purchase Amount\n",
       "Issue_Branch_State                 \n",
       "Telangana            29,189,070,000\n",
       "Maharashtra          27,202,185,000\n",
       "West Bengal          24,321,926,000\n",
       "Delhi                16,830,706,000\n",
       "Tamil Nadu           13,401,502,000"
      ]
     },
     "execution_count": 125,
     "metadata": {},
     "output_type": "execute_result"
    }
   ],
   "source": [
    "df.groupby(\"Issue_Branch_State\")[\"Purchase Amount\"].sum().to_frame().sort_values(by=\"Purchase Amount\",ascending = False).head(5)"
   ]
  },
  {
   "cell_type": "markdown",
   "id": "d63cabc8",
   "metadata": {},
   "source": [
    "### Top 5 cities from which money was donated / Bonds were issued"
   ]
  },
  {
   "cell_type": "code",
   "execution_count": 127,
   "id": "d7d335a1",
   "metadata": {
    "scrolled": true
   },
   "outputs": [
    {
     "data": {
      "text/html": [
       "<div>\n",
       "<style scoped>\n",
       "    .dataframe tbody tr th:only-of-type {\n",
       "        vertical-align: middle;\n",
       "    }\n",
       "\n",
       "    .dataframe tbody tr th {\n",
       "        vertical-align: top;\n",
       "    }\n",
       "\n",
       "    .dataframe thead th {\n",
       "        text-align: right;\n",
       "    }\n",
       "</style>\n",
       "<table border=\"1\" class=\"dataframe\">\n",
       "  <thead>\n",
       "    <tr style=\"text-align: right;\">\n",
       "      <th></th>\n",
       "      <th>Purchase Amount</th>\n",
       "    </tr>\n",
       "    <tr>\n",
       "      <th>Issue_Branch_City</th>\n",
       "      <th></th>\n",
       "    </tr>\n",
       "  </thead>\n",
       "  <tbody>\n",
       "    <tr>\n",
       "      <th>Hyderabad</th>\n",
       "      <td>29,189,070,000</td>\n",
       "    </tr>\n",
       "    <tr>\n",
       "      <th>Mumbai</th>\n",
       "      <td>27,202,185,000</td>\n",
       "    </tr>\n",
       "    <tr>\n",
       "      <th>Kolkata</th>\n",
       "      <td>24,321,926,000</td>\n",
       "    </tr>\n",
       "    <tr>\n",
       "      <th>New Delhi</th>\n",
       "      <td>16,830,706,000</td>\n",
       "    </tr>\n",
       "    <tr>\n",
       "      <th>Chennai</th>\n",
       "      <td>13,401,502,000</td>\n",
       "    </tr>\n",
       "  </tbody>\n",
       "</table>\n",
       "</div>"
      ],
      "text/plain": [
       "                   Purchase Amount\n",
       "Issue_Branch_City                 \n",
       "Hyderabad           29,189,070,000\n",
       "Mumbai              27,202,185,000\n",
       "Kolkata             24,321,926,000\n",
       "New Delhi           16,830,706,000\n",
       "Chennai             13,401,502,000"
      ]
     },
     "execution_count": 127,
     "metadata": {},
     "output_type": "execute_result"
    }
   ],
   "source": [
    "df.groupby(\"Issue_Branch_City\")[\"Purchase Amount\"].sum().to_frame().sort_values(by=\"Purchase Amount\",ascending = False).head(5)"
   ]
  },
  {
   "cell_type": "markdown",
   "id": "2bb1ed85",
   "metadata": {},
   "source": [
    "### Highest Funder for each Party"
   ]
  },
  {
   "cell_type": "code",
   "execution_count": 130,
   "id": "a33f95db",
   "metadata": {},
   "outputs": [],
   "source": [
    "grouped = df.groupby([\"Party Name\",\"Purchaser Name\"])[\"Amount\"].sum().reset_index()"
   ]
  },
  {
   "cell_type": "code",
   "execution_count": 132,
   "id": "e56a746b",
   "metadata": {},
   "outputs": [],
   "source": [
    "idx = grouped.groupby(\"Party Name\")[\"Amount\"].idxmax()"
   ]
  },
  {
   "cell_type": "code",
   "execution_count": 134,
   "id": "9bccec19",
   "metadata": {},
   "outputs": [
    {
     "data": {
      "text/html": [
       "<div>\n",
       "<style scoped>\n",
       "    .dataframe tbody tr th:only-of-type {\n",
       "        vertical-align: middle;\n",
       "    }\n",
       "\n",
       "    .dataframe tbody tr th {\n",
       "        vertical-align: top;\n",
       "    }\n",
       "\n",
       "    .dataframe thead th {\n",
       "        text-align: right;\n",
       "    }\n",
       "</style>\n",
       "<table border=\"1\" class=\"dataframe\">\n",
       "  <thead>\n",
       "    <tr style=\"text-align: right;\">\n",
       "      <th></th>\n",
       "      <th>Party Name</th>\n",
       "      <th>Purchaser Name</th>\n",
       "      <th>Amount</th>\n",
       "    </tr>\n",
       "  </thead>\n",
       "  <tbody>\n",
       "    <tr>\n",
       "      <th>595</th>\n",
       "      <td>BJP</td>\n",
       "      <td>MEGHA ENGINEERING &amp; INFRASTRUCTURES LIMITED</td>\n",
       "      <td>5,840,000,000</td>\n",
       "    </tr>\n",
       "    <tr>\n",
       "      <th>106</th>\n",
       "      <td>AITC</td>\n",
       "      <td>FUTURE GAMING AND HOTEL SERVICES</td>\n",
       "      <td>5,420,000,000</td>\n",
       "    </tr>\n",
       "    <tr>\n",
       "      <th>1079</th>\n",
       "      <td>DMK</td>\n",
       "      <td>FUTURE GAMING AND HOTEL SERVICES</td>\n",
       "      <td>5,030,000,000</td>\n",
       "    </tr>\n",
       "    <tr>\n",
       "      <th>964</th>\n",
       "      <td>BRS</td>\n",
       "      <td>MEGHA ENGINEERING &amp; INFRASTRUCTURES LIMITED</td>\n",
       "      <td>1,950,000,000</td>\n",
       "    </tr>\n",
       "    <tr>\n",
       "      <th>287</th>\n",
       "      <td>BJD</td>\n",
       "      <td>ESSEL MINING AND INDS LTD</td>\n",
       "      <td>1,745,000,000</td>\n",
       "    </tr>\n",
       "    <tr>\n",
       "      <th>1604</th>\n",
       "      <td>YSRCP</td>\n",
       "      <td>FUTURE GAMING AND HOTEL SERVICES</td>\n",
       "      <td>1,540,000,000</td>\n",
       "    </tr>\n",
       "    <tr>\n",
       "      <th>1414</th>\n",
       "      <td>INC</td>\n",
       "      <td>VEDANTA LIMITED</td>\n",
       "      <td>1,250,000,000</td>\n",
       "    </tr>\n",
       "    <tr>\n",
       "      <th>1515</th>\n",
       "      <td>SHIVSENA</td>\n",
       "      <td>B G SHIRKE CONSTRUCTION TECHNOLOGY PVT L TD</td>\n",
       "      <td>850,000,000</td>\n",
       "    </tr>\n",
       "    <tr>\n",
       "      <th>1579</th>\n",
       "      <td>TDP</td>\n",
       "      <td>SHIRDI SAI ELECTRICALS LTD</td>\n",
       "      <td>400,000,000</td>\n",
       "    </tr>\n",
       "    <tr>\n",
       "      <th>1485</th>\n",
       "      <td>RJD</td>\n",
       "      <td>IFB AGRO INDUSTRIES LIMITED</td>\n",
       "      <td>350,000,000</td>\n",
       "    </tr>\n",
       "    <tr>\n",
       "      <th>1548</th>\n",
       "      <td>SKM</td>\n",
       "      <td>FUTURE GAMING AND HOTEL SERVICES</td>\n",
       "      <td>110,000,000</td>\n",
       "    </tr>\n",
       "    <tr>\n",
       "      <th>1475</th>\n",
       "      <td>NCP</td>\n",
       "      <td>QWIKSUPPLYCHAINPRIVATELIMITED</td>\n",
       "      <td>100,000,000</td>\n",
       "    </tr>\n",
       "    <tr>\n",
       "      <th>1553</th>\n",
       "      <td>SP</td>\n",
       "      <td>KEVENTER FOODPARK INFRA LIMITED</td>\n",
       "      <td>100,000,000</td>\n",
       "    </tr>\n",
       "    <tr>\n",
       "      <th>7</th>\n",
       "      <td>AAP</td>\n",
       "      <td>AVEES TRADING FINANCE PVT LTD</td>\n",
       "      <td>100,000,000</td>\n",
       "    </tr>\n",
       "    <tr>\n",
       "      <th>1464</th>\n",
       "      <td>JSP</td>\n",
       "      <td>WESTERN UP POWER TRANSMISSION COMPANY LI MITED</td>\n",
       "      <td>100,000,000</td>\n",
       "    </tr>\n",
       "    <tr>\n",
       "      <th>1450</th>\n",
       "      <td>JD(U)</td>\n",
       "      <td>MEGHA ENGINEERING &amp; INFRASTRUCTURES LIMITED</td>\n",
       "      <td>100,000,000</td>\n",
       "    </tr>\n",
       "    <tr>\n",
       "      <th>1445</th>\n",
       "      <td>JD(S)</td>\n",
       "      <td>NARA CONSTRUCTIONS</td>\n",
       "      <td>100,000,000</td>\n",
       "    </tr>\n",
       "    <tr>\n",
       "      <th>1505</th>\n",
       "      <td>SAD</td>\n",
       "      <td>FASTWAY TRANSMISSIONS PVT LTD</td>\n",
       "      <td>50,000,000</td>\n",
       "    </tr>\n",
       "    <tr>\n",
       "      <th>1511</th>\n",
       "      <td>SDF</td>\n",
       "      <td>FUTURE GAMING AND HOTEL SERVICES</td>\n",
       "      <td>50,000,000</td>\n",
       "    </tr>\n",
       "    <tr>\n",
       "      <th>1459</th>\n",
       "      <td>JMM</td>\n",
       "      <td>VEDANTA LIMITED</td>\n",
       "      <td>50,000,000</td>\n",
       "    </tr>\n",
       "    <tr>\n",
       "      <th>1452</th>\n",
       "      <td>JKNC</td>\n",
       "      <td>BHARTI AIRTEL LIMITEDAIRTEL CURRE NT AC-GCO</td>\n",
       "      <td>5,000,000</td>\n",
       "    </tr>\n",
       "    <tr>\n",
       "      <th>1466</th>\n",
       "      <td>MGP</td>\n",
       "      <td>V M SALGAOCAR CORPORATION PVT LTD</td>\n",
       "      <td>3,500,000</td>\n",
       "    </tr>\n",
       "    <tr>\n",
       "      <th>1090</th>\n",
       "      <td>GFP</td>\n",
       "      <td>GOA CARBON LTD</td>\n",
       "      <td>2,000,000</td>\n",
       "    </tr>\n",
       "  </tbody>\n",
       "</table>\n",
       "</div>"
      ],
      "text/plain": [
       "     Party Name                                  Purchaser Name        Amount\n",
       "595         BJP     MEGHA ENGINEERING & INFRASTRUCTURES LIMITED 5,840,000,000\n",
       "106        AITC                FUTURE GAMING AND HOTEL SERVICES 5,420,000,000\n",
       "1079        DMK                FUTURE GAMING AND HOTEL SERVICES 5,030,000,000\n",
       "964         BRS     MEGHA ENGINEERING & INFRASTRUCTURES LIMITED 1,950,000,000\n",
       "287         BJD                       ESSEL MINING AND INDS LTD 1,745,000,000\n",
       "1604      YSRCP                FUTURE GAMING AND HOTEL SERVICES 1,540,000,000\n",
       "1414        INC                                 VEDANTA LIMITED 1,250,000,000\n",
       "1515   SHIVSENA     B G SHIRKE CONSTRUCTION TECHNOLOGY PVT L TD   850,000,000\n",
       "1579        TDP                      SHIRDI SAI ELECTRICALS LTD   400,000,000\n",
       "1485        RJD                     IFB AGRO INDUSTRIES LIMITED   350,000,000\n",
       "1548        SKM                FUTURE GAMING AND HOTEL SERVICES   110,000,000\n",
       "1475        NCP                   QWIKSUPPLYCHAINPRIVATELIMITED   100,000,000\n",
       "1553         SP                 KEVENTER FOODPARK INFRA LIMITED   100,000,000\n",
       "7           AAP                   AVEES TRADING FINANCE PVT LTD   100,000,000\n",
       "1464        JSP  WESTERN UP POWER TRANSMISSION COMPANY LI MITED   100,000,000\n",
       "1450      JD(U)     MEGHA ENGINEERING & INFRASTRUCTURES LIMITED   100,000,000\n",
       "1445      JD(S)                              NARA CONSTRUCTIONS   100,000,000\n",
       "1505        SAD                   FASTWAY TRANSMISSIONS PVT LTD    50,000,000\n",
       "1511        SDF                FUTURE GAMING AND HOTEL SERVICES    50,000,000\n",
       "1459        JMM                                 VEDANTA LIMITED    50,000,000\n",
       "1452       JKNC     BHARTI AIRTEL LIMITEDAIRTEL CURRE NT AC-GCO     5,000,000\n",
       "1466        MGP               V M SALGAOCAR CORPORATION PVT LTD     3,500,000\n",
       "1090        GFP                                  GOA CARBON LTD     2,000,000"
      ]
     },
     "execution_count": 134,
     "metadata": {},
     "output_type": "execute_result"
    }
   ],
   "source": [
    "grouped.loc[idx,[\"Party Name\",\"Purchaser Name\",\"Amount\"]].sort_values(by=\"Amount\",ascending = False)"
   ]
  }
 ],
 "metadata": {
  "kernelspec": {
   "display_name": "Python 3 (ipykernel)",
   "language": "python",
   "name": "python3"
  },
  "language_info": {
   "codemirror_mode": {
    "name": "ipython",
    "version": 3
   },
   "file_extension": ".py",
   "mimetype": "text/x-python",
   "name": "python",
   "nbconvert_exporter": "python",
   "pygments_lexer": "ipython3",
   "version": "3.9.13"
  }
 },
 "nbformat": 4,
 "nbformat_minor": 5
}
